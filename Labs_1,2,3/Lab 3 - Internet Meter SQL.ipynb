{
 "cells": [
  {
   "cell_type": "markdown",
   "metadata": {},
   "source": [
    "![Title](Images/cisco.png)"
   ]
  },
  {
   "cell_type": "markdown",
   "metadata": {},
   "source": [
    "# Lab - Internet Meter SQL\n"
   ]
  },
  {
   "cell_type": "markdown",
   "metadata": {},
   "source": [
    "### Objectives\n",
    "\n",
    "<b>\n",
    "* Part 1: Set up your Database\n",
    "* Part 2: Connect to the Database \n",
    "* Part 3: Manipulate the Data with Pandas\n",
    "* Part 4: Join Tables with Pandas\n",
    "</b>"
   ]
  },
  {
   "cell_type": "markdown",
   "metadata": {},
   "source": [
    "### Scenario/Background\n",
    "In this lab you will learn how to connect to a relational database, retrieve and manipulate the data through a Jupyter notebook. The data you are provided contain various measurements for ping, upload and download speed made in different Local Authorities around England. At the moment the data is stored in a csv file, but you will create a database and populate it with the measurement. \n",
    "\n",
    "You will:\n",
    "* Work with a relational database\n",
    "* Set up SQLite\n",
    "* Create a new database\n",
    "* Use csvsql to create a new table and retrieve data directly from a big csv file\n",
    "* Connect to a database with the sqlite3 Python library\n",
    "* Perform basic SQL queries through Python\n",
    "* Explore the interaction between Pandas and an SQL database\n",
    "* Merge two tables"
   ]
  },
  {
   "cell_type": "markdown",
   "metadata": {},
   "source": [
    "### Required Resources\n",
    "* 1 PC with Internet access\n",
    "* Raspberry Pi version 2 or higher\n",
    "* Python libraries: sqlite3, pandas, matplotlib\n",
    "* Additional libraries: csvkit\n",
    "* Datafiles: LA_wifi_speed_UK.csv, LA_population.csv\n",
    "\n",
    "### SQL refresh\n",
    "* Very brief introduction to relational databases (temporary): http://searchsqlserver.techtarget.com/definition/relational-database</li>\n",
    "* More videos on relational databases: https://www.youtube.com/watch?v=jyju2P-7hPA&list=PLAwxTw4SYaPm4R6j_wzVOCV9fJaiQDYx4</li>\n",
    "* Introduction to SQL http://www.w3schools.com/sql/sql_intro.asp</li>"
   ]
  },
  {
   "cell_type": "markdown",
   "metadata": {},
   "source": [
    "## Part 1: Set up your Database"
   ]
  },
  {
   "cell_type": "markdown",
   "metadata": {},
   "source": [
    "In this part, you will use SQLite, an in-process library that implements a self-contained, serverless, zero-configuration, transactional SQL database engine to set up the environment."
   ]
  },
  {
   "cell_type": "markdown",
   "metadata": {},
   "source": [
    "#### Step 1: Set up the working environment.\n",
    "We will need `sqlite3` and `csvkit` to complete this notebook. \n",
    "\n",
    "###### a) Install SQLite.\n",
    "In a Jupyter notebook, it is possible to run the same commands that would be used in the terminal. To do so, start the line with an exclamation mark (```!```)."
   ]
  },
  {
   "cell_type": "code",
   "execution_count": 159,
   "metadata": {
    "collapsed": true
   },
   "outputs": [
    {
     "name": "stderr",
     "output_type": "stream",
     "text": [
      "\"sqlite3\" �� ���� ����७��� ��� ���譥�\n",
      "��������, �ᯮ��塞�� �ணࠬ��� ��� ������ 䠩���.\n"
     ]
    }
   ],
   "source": [
    "# Code Cell 1\n",
    "!sqlite3 -version"
   ]
  },
  {
   "cell_type": "markdown",
   "metadata": {},
   "source": [
    "After the installation process finishes, create a database:\n",
    "\n",
    "    $sqlite3 <name of your database> \".databases\"\n",
    "\n",
    "*name of the database* is the name you want to give to your database, for example InternetSpeed:\n",
    "\n",
    "    $sqlite3 InternetSpeed.db \".databases\"\n",
    "    \n",
    "This code creates the database in a terminal window. If you are using the terminal, be sure to navigate to the same directory in which this lab resides."
   ]
  },
  {
   "cell_type": "code",
   "execution_count": 160,
   "metadata": {
    "collapsed": true
   },
   "outputs": [
    {
     "name": "stderr",
     "output_type": "stream",
     "text": [
      "\"sqlite3\" �� ���� ����७��� ��� ���譥�\n",
      "��������, �ᯮ��塞�� �ணࠬ��� ��� ������ 䠩���.\n"
     ]
    }
   ],
   "source": [
    "# Code Cell 2\n",
    "!sqlite3 ./Data/InternetSpeed.db \".databases\"\n",
    "\n"
   ]
  },
  {
   "cell_type": "markdown",
   "metadata": {},
   "source": [
    "At this point, on your local machine, you have a new, empty database called InternetSpeed.\n",
    "Usually, if you want to create a table, you need to provide a schema specifying the name of the table, the name of the columns, and the type of data that goes in every column (int, str, decimal, etc.).\n",
    "<p>For the purpose of this course, A **synthetic** dataset with wifi speed measurements recorded in 300 locations in the United Kingdom is used for the purpose of this course. The file is structured in a way that each column contains the measurements for a location of one of the three statistics (ping, download, and upload). This means that the table we need has 300\\*3 columns (plus the datetime, and an index column). Writing the schema for such a table by hand is unfeasible. Fortunately, there are ways to overcome this, and one of those is using the **csvkit** package, which contains the function **csvsql** that can be used to create a table and import the data in one command.</p>\n",
    "\n",
    "###### b) Install csvkit.\n",
    "Install csvkit at the terminal:\n",
    "\n",
    "    $pip install csvkit\n",
    "    \n",
    "You can also stay in the notebook environment, as you have done previously, adding the exclamation mark at the beginning of the line.\n",
    "\n",
    "The file used in this part of the lab is called LA_wifi_speed_UK.csv."
   ]
  },
  {
   "cell_type": "code",
   "execution_count": 161,
   "metadata": {
    "collapsed": true
   },
   "outputs": [
    {
     "name": "stdout",
     "output_type": "stream",
     "text": [
      "Requirement already satisfied: csvkit in c:\\users\\писюн\\appdata\\local\\programs\\python\\python313\\lib\\site-packages (2.1.0)\n",
      "Requirement already satisfied: agate>=1.12.0 in c:\\users\\писюн\\appdata\\local\\programs\\python\\python313\\lib\\site-packages (from csvkit) (1.13.0)\n",
      "Requirement already satisfied: agate-excel>=0.4.0 in c:\\users\\писюн\\appdata\\local\\programs\\python\\python313\\lib\\site-packages (from csvkit) (0.4.1)\n",
      "Requirement already satisfied: agate-dbf>=0.2.3 in c:\\users\\писюн\\appdata\\local\\programs\\python\\python313\\lib\\site-packages (from csvkit) (0.2.3)\n",
      "Requirement already satisfied: agate-sql>=0.7.0 in c:\\users\\писюн\\appdata\\local\\programs\\python\\python313\\lib\\site-packages (from csvkit) (0.7.2)\n",
      "Requirement already satisfied: openpyxl in c:\\users\\писюн\\appdata\\local\\programs\\python\\python313\\lib\\site-packages (from csvkit) (3.1.5)\n",
      "Requirement already satisfied: sqlalchemy in c:\\users\\писюн\\appdata\\local\\programs\\python\\python313\\lib\\site-packages (from csvkit) (2.0.39)\n",
      "Requirement already satisfied: xlrd in c:\\users\\писюн\\appdata\\local\\programs\\python\\python313\\lib\\site-packages (from csvkit) (2.0.1)\n",
      "Requirement already satisfied: Babel>=2.0 in c:\\users\\писюн\\appdata\\local\\programs\\python\\python313\\lib\\site-packages (from agate>=1.12.0->csvkit) (2.17.0)\n",
      "Requirement already satisfied: isodate>=0.5.4 in c:\\users\\писюн\\appdata\\local\\programs\\python\\python313\\lib\\site-packages (from agate>=1.12.0->csvkit) (0.7.2)\n",
      "Requirement already satisfied: leather>=0.3.2 in c:\\users\\писюн\\appdata\\local\\programs\\python\\python313\\lib\\site-packages (from agate>=1.12.0->csvkit) (0.4.0)\n",
      "Requirement already satisfied: parsedatetime!=2.5,>=2.1 in c:\\users\\писюн\\appdata\\local\\programs\\python\\python313\\lib\\site-packages (from agate>=1.12.0->csvkit) (2.6)\n",
      "Requirement already satisfied: python-slugify>=1.2.1 in c:\\users\\писюн\\appdata\\local\\programs\\python\\python313\\lib\\site-packages (from agate>=1.12.0->csvkit) (8.0.4)\n",
      "Requirement already satisfied: pytimeparse>=1.1.5 in c:\\users\\писюн\\appdata\\local\\programs\\python\\python313\\lib\\site-packages (from agate>=1.12.0->csvkit) (1.1.8)\n",
      "Requirement already satisfied: tzdata>=2023.3 in c:\\users\\писюн\\appdata\\local\\programs\\python\\python313\\lib\\site-packages (from agate>=1.12.0->csvkit) (2025.1)\n",
      "Requirement already satisfied: dbfread>=2.0.5 in c:\\users\\писюн\\appdata\\local\\programs\\python\\python313\\lib\\site-packages (from agate-dbf>=0.2.3->csvkit) (2.0.7)\n",
      "Requirement already satisfied: olefile in c:\\users\\писюн\\appdata\\local\\programs\\python\\python313\\lib\\site-packages (from agate-excel>=0.4.0->csvkit) (0.47)\n",
      "Requirement already satisfied: et-xmlfile in c:\\users\\писюн\\appdata\\local\\programs\\python\\python313\\lib\\site-packages (from openpyxl->csvkit) (2.0.0)\n",
      "Requirement already satisfied: greenlet!=0.4.17 in c:\\users\\писюн\\appdata\\local\\programs\\python\\python313\\lib\\site-packages (from sqlalchemy->csvkit) (3.1.1)\n",
      "Requirement already satisfied: typing-extensions>=4.6.0 in c:\\users\\писюн\\appdata\\local\\programs\\python\\python313\\lib\\site-packages (from sqlalchemy->csvkit) (4.12.2)\n",
      "Requirement already satisfied: text-unidecode>=1.3 in c:\\users\\писюн\\appdata\\local\\programs\\python\\python313\\lib\\site-packages (from python-slugify>=1.2.1->agate>=1.12.0->csvkit) (1.3)\n"
     ]
    },
    {
     "name": "stderr",
     "output_type": "stream",
     "text": [
      "\n",
      "[notice] A new release of pip is available: 24.3.1 -> 25.0.1\n",
      "[notice] To update, run: python.exe -m pip install --upgrade pip\n"
     ]
    }
   ],
   "source": [
    "# Code Cell 3\n",
    "#Installing csvkit\n",
    "!pip install csvkit"
   ]
  },
  {
   "cell_type": "markdown",
   "metadata": {},
   "source": [
    "###### c) Import the data into the database.\n",
    "Use csvsql to create a new table in the database InternetSpeed and retrieve the data contained in the csv file. First, make sure that there is not another database with the same name. If one exists, remove it:\n",
    "    \n",
    "    $test tmp/InternetSpeed.db && rm InternetSpeed.db\n",
    "\n",
    "Use csvkit to populate the database from the csv file:\n",
    "\n",
    "    $csvsql --db sqlite:///InternetSpeed.db --insert ./Data/LA_wifi_speed_UK.csv\n",
    "    \n",
    "You can do this through the terminal or remain in the notebook environment."
   ]
  },
  {
   "cell_type": "code",
   "execution_count": 162,
   "metadata": {
    "collapsed": true
   },
   "outputs": [
    {
     "name": "stderr",
     "output_type": "stream",
     "text": [
      "\"test\" �� ���� ����७��� ��� ���譥�\n",
      "��������, �ᯮ��塞�� �ணࠬ��� ��� ������ 䠩���.\n",
      "OperationalError: (sqlite3.OperationalError) table \"LA_wifi_speed_UK\" already exists\n",
      "[SQL: \n",
      "CREATE TABLE \"LA_wifi_speed_UK\" (\n",
      "\t\"E07000223_p\" FLOAT NOT NULL, \n",
      "\t\"E07000026_p\" FLOAT NOT NULL, \n",
      "\t\"E07000032_p\" FLOAT NOT NULL, \n",
      "\t\"E07000224_p\" FLOAT NOT NULL, \n",
      "\t\"E07000170_p\" FLOAT NOT NULL, \n",
      "\t\"E07000105_p\" FLOAT NOT NULL, \n",
      "\t\"E07000004_p\" FLOAT NOT NULL, \n",
      "\t\"E07000200_p\" FLOAT NOT NULL, \n",
      "\t\"E09000002_p\" FLOAT NOT NULL, \n",
      "\t\"E09000003_p\" FLOAT NOT NULL, \n",
      "\t\"E08000016_p\" FLOAT NOT NULL, \n",
      "\t\"E07000027_p\" FLOAT NOT NULL, \n",
      "\t\"E07000066_p\" FLOAT NOT NULL, \n",
      "\t\"E07000084_p\" FLOAT NOT NULL, \n",
      "\t\"E07000171_p\" FLOAT NOT NULL, \n",
      "\t\"E06000022_p\" FLOAT NOT NULL, \n",
      "\t\"E06000055_p\" FLOAT NOT NULL, \n",
      "\t\"E09000004_p\" FLOAT NOT NULL, \n",
      "\t\"E08000025_p\" FLOAT NOT NULL, \n",
      "\t\"E07000129_p\" FLOAT NOT NULL, \n",
      "\t\"E06000008_p\" FLOAT NOT NULL, \n",
      "\t\"E06000009_p\" FLOAT NOT NULL, \n",
      "\t\"E07000033_p\" FLOAT NOT NULL, \n",
      "\t\"E08000001_p\" FLOAT NOT NULL, \n",
      "\t\"E07000136_p\" FLOAT NOT NULL, \n",
      "\t\"E06000028_p\" FLOAT NOT NULL, \n",
      "\t\"E06000036_p\" FLOAT NOT NULL, \n",
      "\t\"E08000032_p\" FLOAT NOT NULL, \n",
      "\t\"E07000067_p\" FLOAT NOT NULL, \n",
      "\t\"E07000143_p\" FLOAT NOT NULL, \n",
      "\t\"E09000005_p\" FLOAT NOT NULL, \n",
      "\t\"E07000068_p\" FLOAT NOT NULL, \n",
      "\t\"E06000043_p\" FLOAT NOT NULL, \n",
      "\t\"E06000023_p\" FLOAT NOT NULL, \n",
      "\t\"E07000144_p\" FLOAT NOT NULL, \n",
      "\t\"E09000006_p\" FLOAT NOT NULL, \n",
      "\t\"E07000234_p\" FLOAT NOT NULL, \n",
      "\t\"E07000095_p\" FLOAT NOT NULL, \n",
      "\t\"E07000172_p\" FLOAT NOT NULL, \n",
      "\t\"E07000117_p\" FLOAT NOT NULL, \n",
      "\t\"E08000002_p\" FLOAT NOT NULL, \n",
      "\t\"E08000033_p\" FLOAT NOT NULL, \n",
      "\t\"E07000008_p\" FLOAT NOT NULL, \n",
      "\t\"E09000007_p\" FLOAT NOT NULL, \n",
      "\t\"E07000192_p\" FLOAT NOT NULL, \n",
      "\t\"E07000106_p\" FLOAT NOT NULL, \n",
      "\t\"E07000028_p\" FLOAT NOT NULL, \n",
      "\t\"E07000069_p\" FLOAT NOT NULL, \n",
      "\t\"E06000056_p\" FLOAT NOT NULL, \n",
      "\t\"E07000130_p\" FLOAT NOT NULL, \n",
      "\t\"E07000070_p\" FLOAT NOT NULL, \n",
      "\t\"E07000078_p\" FLOAT NOT NULL, \n",
      "\t\"E07000177_p\" FLOAT NOT NULL, \n",
      "\t\"E06000049_p\" FLOAT NOT NULL, \n",
      "\t\"E06000050_p\" FLOAT NOT NULL, \n",
      "\t\"E07000034_p\" FLOAT NOT NULL, \n",
      "\t\"E07000225_p\" FLOAT NOT NULL, \n",
      "\t\"E07000005_p\" FLOAT NOT NULL, \n",
      "\t\"E07000118_p\" FLOAT NOT NULL, \n",
      "\t\"E07000048_p\" FLOAT NOT NULL, \n",
      "\t\"E09000001_p\" FLOAT NOT NULL, \n",
      "\t\"E07000071_p\" FLOAT NOT NULL, \n",
      "\t\"E07000029_p\" FLOAT NOT NULL, \n",
      "\t\"E07000150_p\" FLOAT NOT NULL, \n",
      "\t\"E06000052_p\" FLOAT NOT NULL, \n",
      "\t\"E07000079_p\" FLOAT NOT NULL, \n",
      "\t\"E06000047_p\" FLOAT NOT NULL, \n",
      "\t\"E08000026_p\" FLOAT NOT NULL, \n",
      "\t\"E07000163_p\" FLOAT NOT NULL, \n",
      "\t\"E07000226_p\" FLOAT NOT NULL, \n",
      "\t\"E09000008_p\" FLOAT NOT NULL, \n",
      "\t\"E07000096_p\" FLOAT NOT NULL, \n",
      "\t\"E06000005_p\" FLOAT NOT NULL, \n",
      "\t\"E07000107_p\" FLOAT NOT NULL, \n",
      "\t\"E07000151_p\" FLOAT NOT NULL, \n",
      "\t\"E06000015_p\" FLOAT NOT NULL, \n",
      "\t\"E07000035_p\" FLOAT NOT NULL, \n",
      "\t\"E08000017_p\" FLOAT NOT NULL, \n",
      "\t\"E07000108_p\" FLOAT NOT NULL, \n",
      "\t\"E08000027_p\" FLOAT NOT NULL, \n",
      "\t\"E09000009_p\" FLOAT NOT NULL, \n",
      "\t\"E07000009_p\" FLOAT NOT NULL, \n",
      "\t\"E07000040_p\" FLOAT NOT NULL, \n",
      "\t\"E07000049_p\" FLOAT NOT NULL, \n",
      "\t\"E07000085_p\" FLOAT NOT NULL, \n",
      "\t\"E07000097_p\" FLOAT NOT NULL, \n",
      "\t\"E07000137_p\" FLOAT NOT NULL, \n",
      "\t\"E07000152_p\" FLOAT NOT NULL, \n",
      "\t\"E06000011_p\" FLOAT NOT NULL, \n",
      "\t\"E07000193_p\" FLOAT NOT NULL, \n",
      "\t\"E07000061_p\" FLOAT NOT NULL, \n",
      "\t\"E07000086_p\" FLOAT NOT NULL, \n",
      "\t\"E07000030_p\" FLOAT NOT NULL, \n",
      "\t\"E07000207_p\" FLOAT NOT NULL, \n",
      "\t\"E09000010_p\" FLOAT NOT NULL, \n",
      "\t\"E07000072_p\" FLOAT NOT NULL, \n",
      "\t\"E07000208_p\" FLOAT NOT NULL, \n",
      "\t\"E07000036_p\" FLOAT NOT NULL, \n",
      "\t\"E07000041_p\" FLOAT NOT NULL, \n",
      "\t\"E07000087_p\" FLOAT NOT NULL, \n",
      "\t\"E07000010_p\" FLOAT NOT NULL, \n",
      "\t\"E07000201_p\" FLOAT NOT NULL, \n",
      "\t\"E07000080_p\" FLOAT NOT NULL, \n",
      "\t\"E07000119_p\" FLOAT NOT NULL, \n",
      "\t\"E08000020_p\" FLOAT NOT NULL, \n",
      "\t\"E07000173_p\" FLOAT NOT NULL, \n",
      "\t\"E07000081_p\" FLOAT NOT NULL, \n",
      "\t\"E07000088_p\" FLOAT NOT NULL, \n",
      "\t\"E07000109_p\" FLOAT NOT NULL, \n",
      "\t\"E07000145_p\" FLOAT NOT NULL, \n",
      "\t\"E09000011_p\" FLOAT NOT NULL, \n",
      "\t\"E07000209_p\" FLOAT NOT NULL, \n",
      "\t\"E09000012_p\" FLOAT NOT NULL, \n",
      "\t\"E06000006_p\" FLOAT NOT NULL, \n",
      "\t\"E07000164_p\" FLOAT NOT NULL, \n",
      "\t\"E09000013_p\" FLOAT NOT NULL, \n",
      "\t\"E07000131_p\" FLOAT NOT NULL, \n",
      "\t\"E09000014_p\" FLOAT NOT NULL, \n",
      "\t\"E07000073_p\" FLOAT NOT NULL, \n",
      "\t\"E07000165_p\" FLOAT NOT NULL, \n",
      "\t\"E09000015_p\" FLOAT NOT NULL, \n",
      "\t\"E07000089_p\" FLOAT NOT NULL, \n",
      "\t\"E06000001_p\" FLOAT NOT NULL, \n",
      "\t\"E07000062_p\" FLOAT NOT NULL, \n",
      "\t\"E07000090_p\" FLOAT NOT NULL, \n",
      "\t\"E09000016_p\" FLOAT NOT NULL, \n",
      "\t\"E06000019_p\" FLOAT NOT NULL, \n",
      "\t\"E07000098_p\" FLOAT NOT NULL, \n",
      "\t\"E07000037_p\" FLOAT NOT NULL, \n",
      "\t\"E09000017_p\" FLOAT NOT NULL, \n",
      "\t\"E07000132_p\" FLOAT NOT NULL, \n",
      "\t\"E07000227_p\" FLOAT NOT NULL, \n",
      "\t\"E09000018_p\" FLOAT NOT NULL, \n",
      "\t\"E07000011_p\" FLOAT NOT NULL, \n",
      "\t\"E07000120_p\" FLOAT NOT NULL, \n",
      "\t\"E07000202_p\" FLOAT NOT NULL, \n",
      "\t\"E06000046_p\" FLOAT NOT NULL, \n",
      "\t\"E06000053_p\" FLOAT NOT NULL, \n",
      "\t\"E09000019_p\" FLOAT NOT NULL, \n",
      "\t\"E09000020_p\" FLOAT NOT NULL, \n",
      "\t\"E07000153_p\" FLOAT NOT NULL, \n",
      "\t\"E07000146_p\" FLOAT NOT NULL, \n",
      "\t\"E06000010_p\" FLOAT NOT NULL, \n",
      "\t\"E09000021_p\" FLOAT NOT NULL, \n",
      "\t\"E08000034_p\" FLOAT NOT NULL, \n",
      "\t\"E08000011_p\" FLOAT NOT NULL, \n",
      "\t\"E09000022_p\" FLOAT NOT NULL, \n",
      "\t\"E07000121_p\" FLOAT NOT NULL, \n",
      "\t\"E08000035_p\" FLOAT NOT NULL, \n",
      "\t\"E06000016_p\" FLOAT NOT NULL, \n",
      "\t\"E07000063_p\" FLOAT NOT NULL, \n",
      "\t\"E09000023_p\" FLOAT NOT NULL, \n",
      "\t\"E07000194_p\" FLOAT NOT NULL, \n",
      "\t\"E07000138_p\" FLOAT NOT NULL, \n",
      "\t\"E08000012_p\" FLOAT NOT NULL, \n",
      "\t\"E06000032_p\" FLOAT NOT NULL, \n",
      "\t\"E07000110_p\" FLOAT NOT NULL, \n",
      "\t\"E07000074_p\" FLOAT NOT NULL, \n",
      "\t\"E07000235_p\" FLOAT NOT NULL, \n",
      "\t\"E08000003_p\" FLOAT NOT NULL, \n",
      "\t\"E07000174_p\" FLOAT NOT NULL, \n",
      "\t\"E06000035_p\" FLOAT NOT NULL, \n",
      "\t\"E07000133_p\" FLOAT NOT NULL, \n",
      "\t\"E07000187_p\" FLOAT NOT NULL, \n",
      "\t\"E09000024_p\" FLOAT NOT NULL, \n",
      "\t\"E07000042_p\" FLOAT NOT NULL, \n",
      "\t\"E07000203_p\" FLOAT NOT NULL, \n",
      "\t\"E07000228_p\" FLOAT NOT NULL, \n",
      "\t\"E06000002_p\" FLOAT NOT NULL, \n",
      "\t\"E06000042_p\" FLOAT NOT NULL, \n",
      "\t\"E07000210_p\" FLOAT NOT NULL, \n",
      "\t\"E07000091_p\" FLOAT NOT NULL, \n",
      "\t\"E07000175_p\" FLOAT NOT NULL, \n",
      "\t\"E08000021_p\" FLOAT NOT NULL, \n",
      "\t\"E07000195_p\" FLOAT NOT NULL, \n",
      "\t\"E09000025_p\" FLOAT NOT NULL, \n",
      "\t\"E07000043_p\" FLOAT NOT NULL, \n",
      "\t\"E07000050_p\" FLOAT NOT NULL, \n",
      "\t\"E07000038_p\" FLOAT NOT NULL, \n",
      "\t\"E06000012_p\" FLOAT NOT NULL, \n",
      "\t\"E07000099_p\" FLOAT NOT NULL, \n",
      "\t\"E07000139_p\" FLOAT NOT NULL, \n",
      "\t\"E06000013_p\" FLOAT NOT NULL, \n",
      "\t\"E07000147_p\" FLOAT NOT NULL, \n",
      "\t\"E06000024_p\" FLOAT NOT NULL, \n",
      "\t\"E08000022_p\" FLOAT NOT NULL, \n",
      "\t\"E07000218_p\" FLOAT NOT NULL, \n",
      "\t\"E07000134_p\" FLOAT NOT NULL, \n",
      "\t\"E07000154_p\" FLOAT NOT NULL, \n",
      "\t\"E06000048_p\" FLOAT NOT NULL, \n",
      "\t\"E07000148_p\" FLOAT NOT NULL, \n",
      "\t\"E06000018_p\" FLOAT NOT NULL, \n",
      "\t\"E07000219_p\" FLOAT NOT NULL, \n",
      "\t\"E07000135_p\" FLOAT NOT NULL, \n",
      "\t\"E08000004_p\" FLOAT NOT NULL, \n",
      "\t\"E07000178_p\" FLOAT NOT NULL, \n",
      "\t\"E07000122_p\" FLOAT NOT NULL, \n",
      "\t\"E06000031_p\" FLOAT NOT NULL, \n",
      "\t\"E06000026_p\" FLOAT NOT NULL, \n",
      "\t\"E06000029_p\" FLOAT NOT NULL, \n",
      "\t\"E06000044_p\" FLOAT NOT NULL, \n",
      "\t\"E07000123_p\" FLOAT NOT NULL, \n",
      "\t\"E07000051_p\" FLOAT NOT NULL, \n",
      "\t\"E06000038_p\" FLOAT NOT NULL, \n",
      "\t\"E09000026_p\" FLOAT NOT NULL, \n",
      "\t\"E06000003_p\" FLOAT NOT NULL, \n",
      "\t\"E07000236_p\" FLOAT NOT NULL, \n",
      "\t\"E07000211_p\" FLOAT NOT NULL, \n",
      "\t\"E07000124_p\" FLOAT NOT NULL, \n",
      "\t\"E09000027_p\" FLOAT NOT NULL, \n",
      "\t\"E07000166_p\" FLOAT NOT NULL, \n",
      "\t\"E08000005_p\" FLOAT NOT NULL, \n",
      "\t\"E07000075_p\" FLOAT NOT NULL, \n",
      "\t\"E07000125_p\" FLOAT NOT NULL, \n",
      "\t\"E07000064_p\" FLOAT NOT NULL, \n",
      "\t\"E08000018_p\" FLOAT NOT NULL, \n",
      "\t\"E07000220_p\" FLOAT NOT NULL, \n",
      "\t\"E07000212_p\" FLOAT NOT NULL, \n",
      "\t\"E07000176_p\" FLOAT NOT NULL, \n",
      "\t\"E07000092_p\" FLOAT NOT NULL, \n",
      "\t\"E06000017_p\" FLOAT NOT NULL, \n",
      "\t\"E07000167_p\" FLOAT NOT NULL, \n",
      "\t\"E08000006_p\" FLOAT NOT NULL, \n",
      "\t\"E08000028_p\" FLOAT NOT NULL, \n",
      "\t\"E07000168_p\" FLOAT NOT NULL, \n",
      "\t\"E07000188_p\" FLOAT NOT NULL, \n",
      "\t\"E08000014_p\" FLOAT NOT NULL, \n",
      "\t\"E07000169_p\" FLOAT NOT NULL, \n",
      "\t\"E07000111_p\" FLOAT NOT NULL, \n",
      "\t\"E08000019_p\" FLOAT NOT NULL, \n",
      "\t\"E07000112_p\" FLOAT NOT NULL, \n",
      "\t\"E06000051_p\" FLOAT NOT NULL, \n",
      "\t\"E06000039_p\" FLOAT NOT NULL, \n",
      "\t\"E08000029_p\" FLOAT NOT NULL, \n",
      "\t\"E07000006_p\" FLOAT NOT NULL, \n",
      "\t\"E07000012_p\" FLOAT NOT NULL, \n",
      "\t\"E07000039_p\" FLOAT NOT NULL, \n",
      "\t\"E06000025_p\" FLOAT NOT NULL, \n",
      "\t\"E07000044_p\" FLOAT NOT NULL, \n",
      "\t\"E07000140_p\" FLOAT NOT NULL, \n",
      "\t\"E07000141_p\" FLOAT NOT NULL, \n",
      "\t\"E07000031_p\" FLOAT NOT NULL, \n",
      "\t\"E07000149_p\" FLOAT NOT NULL, \n",
      "\t\"E07000155_p\" FLOAT NOT NULL, \n",
      "\t\"E07000179_p\" FLOAT NOT NULL, \n",
      "\t\"E07000126_p\" FLOAT NOT NULL, \n",
      "\t\"E07000189_p\" FLOAT NOT NULL, \n",
      "\t\"E07000196_p\" FLOAT NOT NULL, \n",
      "\t\"E08000023_p\" FLOAT NOT NULL, \n",
      "\t\"E06000045_p\" FLOAT NOT NULL, \n",
      "\t\"E06000033_p\" FLOAT NOT NULL, \n",
      "\t\"E09000028_p\" FLOAT NOT NULL, \n",
      "\t\"E07000213_p\" FLOAT NOT NULL, \n",
      "\t\"E07000100_p\" FLOAT NOT NULL, \n",
      "\t\"E07000204_p\" FLOAT NOT NULL, \n",
      "\t\"E08000013_p\" FLOAT NOT NULL, \n",
      "\t\"E07000197_p\" FLOAT NOT NULL, \n",
      "\t\"E07000198_p\" FLOAT NOT NULL, \n",
      "\t\"E07000101_p\" FLOAT NOT NULL, \n",
      "\t\"E08000007_p\" FLOAT NOT NULL, \n",
      "\t\"E06000004_p\" FLOAT NOT NULL, \n",
      "\t\"E06000021_p\" FLOAT NOT NULL, \n",
      "\t\"E07000221_p\" FLOAT NOT NULL, \n",
      "\t\"E07000082_p\" FLOAT NOT NULL, \n",
      "\t\"E07000205_p\" FLOAT NOT NULL, \n",
      "\t\"E08000024_p\" FLOAT NOT NULL, \n",
      "\t\"E07000214_p\" FLOAT NOT NULL, \n",
      "\t\"E09000029_p\" FLOAT NOT NULL, \n",
      "\t\"E07000113_p\" FLOAT NOT NULL, \n",
      "\t\"E06000030_p\" FLOAT NOT NULL, \n",
      "\t\"E08000008_p\" FLOAT NOT NULL, \n",
      "\t\"E07000199_p\" FLOAT NOT NULL, \n",
      "\t\"E07000215_p\" FLOAT NOT NULL, \n",
      "\t\"E07000190_p\" FLOAT NOT NULL, \n",
      "\t\"E07000045_p\" FLOAT NOT NULL, \n",
      "\t\"E06000020_p\" FLOAT NOT NULL, \n",
      "\t\"E07000076_p\" FLOAT NOT NULL, \n",
      "\t\"E07000093_p\" FLOAT NOT NULL, \n",
      "\t\"E07000083_p\" FLOAT NOT NULL, \n",
      "\t\"E07000114_p\" FLOAT NOT NULL, \n",
      "\t\"E07000102_p\" FLOAT NOT NULL, \n",
      "\t\"E06000034_p\" FLOAT NOT NULL, \n",
      "\t\"E07000115_p\" FLOAT NOT NULL, \n",
      "\t\"E06000027_p\" FLOAT NOT NULL, \n",
      "\t\"E07000046_p\" FLOAT NOT NULL, \n",
      "\t\"E09000030_p\" FLOAT NOT NULL, \n",
      "\t\"E08000009_p\" FLOAT NOT NULL, \n",
      "\t\"E07000116_p\" FLOAT NOT NULL, \n",
      "\t\"E07000077_p\" FLOAT NOT NULL, \n",
      "\t\"E07000180_p\" FLOAT NOT NULL, \n",
      "\t\"E08000036_p\" FLOAT NOT NULL, \n",
      "\t\"E08000030_p\" FLOAT NOT NULL, \n",
      "\t\"E09000031_p\" FLOAT NOT NULL, \n",
      "\t\"E09000032_p\" FLOAT NOT NULL, \n",
      "\t\"E06000007_p\" FLOAT NOT NULL, \n",
      "\t\"E07000222_p\" FLOAT NOT NULL, \n",
      "\t\"E07000103_p\" FLOAT NOT NULL, \n",
      "\t\"E07000206_p\" FLOAT NOT NULL, \n",
      "\t\"E07000216_p\" FLOAT NOT NULL, \n",
      "\t\"E07000065_p\" FLOAT NOT NULL, \n",
      "\t\"E07000156_p\" FLOAT NOT NULL, \n",
      "\t\"E07000104_p\" FLOAT NOT NULL, \n",
      "\t\"E06000037_p\" FLOAT NOT NULL, \n",
      "\t\"E07000047_p\" FLOAT NOT NULL, \n",
      "\t\"E07000052_p\" FLOAT NOT NULL, \n",
      "\t\"E07000127_p\" FLOAT NOT NULL, \n",
      "\t\"E07000142_p\" FLOAT NOT NULL, \n",
      "\t\"E07000181_p\" FLOAT NOT NULL, \n",
      "\t\"E07000191_p\" FLOAT NOT NULL, \n",
      "\t\"E09000033_p\" FLOAT NOT NULL, \n",
      "\t\"E07000053_p\" FLOAT NOT NULL, \n",
      "\t\"E08000010_p\" FLOAT NOT NULL, \n",
      "\t\"E06000054_p\" FLOAT NOT NULL, \n",
      "\t\"E07000094_p\" FLOAT NOT NULL, \n",
      "\t\"E06000040_p\" FLOAT NOT NULL, \n",
      "\t\"E08000015_p\" FLOAT NOT NULL, \n",
      "\t\"E07000217_p\" FLOAT NOT NULL, \n",
      "\t\"E06000041_p\" FLOAT NOT NULL, \n",
      "\t\"E08000031_p\" FLOAT NOT NULL, \n",
      "\t\"E07000237_p\" FLOAT NOT NULL, \n",
      "\t\"E07000229_p\" FLOAT NOT NULL, \n",
      "\t\"E07000238_p\" FLOAT NOT NULL, \n",
      "\t\"E07000007_p\" FLOAT NOT NULL, \n",
      "\t\"E07000128_p\" FLOAT NOT NULL, \n",
      "\t\"E07000239_p\" FLOAT NOT NULL, \n",
      "\t\"E06000014_p\" FLOAT NOT NULL, \n",
      "\t\"E07000223_u\" FLOAT NOT NULL, \n",
      "\t\"E07000026_u\" FLOAT NOT NULL, \n",
      "\t\"E07000032_u\" FLOAT NOT NULL, \n",
      "\t\"E07000224_u\" FLOAT NOT NULL, \n",
      "\t\"E07000170_u\" FLOAT NOT NULL, \n",
      "\t\"E07000105_u\" FLOAT NOT NULL, \n",
      "\t\"E07000004_u\" FLOAT NOT NULL, \n",
      "\t\"E07000200_u\" FLOAT NOT NULL, \n",
      "\t\"E09000002_u\" FLOAT NOT NULL, \n",
      "\t\"E09000003_u\" FLOAT NOT NULL, \n",
      "\t\"E08000016_u\" FLOAT NOT NULL, \n",
      "\t\"E07000027_u\" FLOAT NOT NULL, \n",
      "\t\"E07000066_u\" FLOAT NOT NULL, \n",
      "\t\"E07000084_u\" FLOAT NOT NULL, \n",
      "\t\"E07000171_u\" FLOAT NOT NULL, \n",
      "\t\"E06000022_u\" FLOAT NOT NULL, \n",
      "\t\"E06000055_u\" FLOAT NOT NULL, \n",
      "\t\"E09000004_u\" FLOAT NOT NULL, \n",
      "\t\"E08000025_u\" FLOAT NOT NULL, \n",
      "\t\"E07000129_u\" FLOAT NOT NULL, \n",
      "\t\"E06000008_u\" FLOAT NOT NULL, \n",
      "\t\"E06000009_u\" FLOAT NOT NULL, \n",
      "\t\"E07000033_u\" FLOAT NOT NULL, \n",
      "\t\"E08000001_u\" FLOAT NOT NULL, \n",
      "\t\"E07000136_u\" FLOAT NOT NULL, \n",
      "\t\"E06000028_u\" FLOAT NOT NULL, \n",
      "\t\"E06000036_u\" FLOAT NOT NULL, \n",
      "\t\"E08000032_u\" FLOAT NOT NULL, \n",
      "\t\"E07000067_u\" FLOAT NOT NULL, \n",
      "\t\"E07000143_u\" FLOAT NOT NULL, \n",
      "\t\"E09000005_u\" FLOAT NOT NULL, \n",
      "\t\"E07000068_u\" FLOAT NOT NULL, \n",
      "\t\"E06000043_u\" FLOAT NOT NULL, \n",
      "\t\"E06000023_u\" FLOAT NOT NULL, \n",
      "\t\"E07000144_u\" FLOAT NOT NULL, \n",
      "\t\"E09000006_u\" FLOAT NOT NULL, \n",
      "\t\"E07000234_u\" FLOAT NOT NULL, \n",
      "\t\"E07000095_u\" FLOAT NOT NULL, \n",
      "\t\"E07000172_u\" FLOAT NOT NULL, \n",
      "\t\"E07000117_u\" FLOAT NOT NULL, \n",
      "\t\"E08000002_u\" FLOAT NOT NULL, \n",
      "\t\"E08000033_u\" FLOAT NOT NULL, \n",
      "\t\"E07000008_u\" FLOAT NOT NULL, \n",
      "\t\"E09000007_u\" FLOAT NOT NULL, \n",
      "\t\"E07000192_u\" FLOAT NOT NULL, \n",
      "\t\"E07000106_u\" FLOAT NOT NULL, \n",
      "\t\"E07000028_u\" FLOAT NOT NULL, \n",
      "\t\"E07000069_u\" FLOAT NOT NULL, \n",
      "\t\"E06000056_u\" FLOAT NOT NULL, \n",
      "\t\"E07000130_u\" FLOAT NOT NULL, \n",
      "\t\"E07000070_u\" FLOAT NOT NULL, \n",
      "\t\"E07000078_u\" FLOAT NOT NULL, \n",
      "\t\"E07000177_u\" FLOAT NOT NULL, \n",
      "\t\"E06000049_u\" FLOAT NOT NULL, \n",
      "\t\"E06000050_u\" FLOAT NOT NULL, \n",
      "\t\"E07000034_u\" FLOAT NOT NULL, \n",
      "\t\"E07000225_u\" FLOAT NOT NULL, \n",
      "\t\"E07000005_u\" FLOAT NOT NULL, \n",
      "\t\"E07000118_u\" FLOAT NOT NULL, \n",
      "\t\"E07000048_u\" FLOAT NOT NULL, \n",
      "\t\"E09000001_u\" FLOAT NOT NULL, \n",
      "\t\"E07000071_u\" FLOAT NOT NULL, \n",
      "\t\"E07000029_u\" FLOAT NOT NULL, \n",
      "\t\"E07000150_u\" FLOAT NOT NULL, \n",
      "\t\"E06000052_u\" FLOAT NOT NULL, \n",
      "\t\"E07000079_u\" FLOAT NOT NULL, \n",
      "\t\"E06000047_u\" FLOAT NOT NULL, \n",
      "\t\"E08000026_u\" FLOAT NOT NULL, \n",
      "\t\"E07000163_u\" FLOAT NOT NULL, \n",
      "\t\"E07000226_u\" FLOAT NOT NULL, \n",
      "\t\"E09000008_u\" FLOAT NOT NULL, \n",
      "\t\"E07000096_u\" FLOAT NOT NULL, \n",
      "\t\"E06000005_u\" FLOAT NOT NULL, \n",
      "\t\"E07000107_u\" FLOAT NOT NULL, \n",
      "\t\"E07000151_u\" FLOAT NOT NULL, \n",
      "\t\"E06000015_u\" FLOAT NOT NULL, \n",
      "\t\"E07000035_u\" FLOAT NOT NULL, \n",
      "\t\"E08000017_u\" FLOAT NOT NULL, \n",
      "\t\"E07000108_u\" FLOAT NOT NULL, \n",
      "\t\"E08000027_u\" FLOAT NOT NULL, \n",
      "\t\"E09000009_u\" FLOAT NOT NULL, \n",
      "\t\"E07000009_u\" FLOAT NOT NULL, \n",
      "\t\"E07000040_u\" FLOAT NOT NULL, \n",
      "\t\"E07000049_u\" FLOAT NOT NULL, \n",
      "\t\"E07000085_u\" FLOAT NOT NULL, \n",
      "\t\"E07000097_u\" FLOAT NOT NULL, \n",
      "\t\"E07000137_u\" FLOAT NOT NULL, \n",
      "\t\"E07000152_u\" FLOAT NOT NULL, \n",
      "\t\"E06000011_u\" FLOAT NOT NULL, \n",
      "\t\"E07000193_u\" FLOAT NOT NULL, \n",
      "\t\"E07000061_u\" FLOAT NOT NULL, \n",
      "\t\"E07000086_u\" FLOAT NOT NULL, \n",
      "\t\"E07000030_u\" FLOAT NOT NULL, \n",
      "\t\"E07000207_u\" FLOAT NOT NULL, \n",
      "\t\"E09000010_u\" FLOAT NOT NULL, \n",
      "\t\"E07000072_u\" FLOAT NOT NULL, \n",
      "\t\"E07000208_u\" FLOAT NOT NULL, \n",
      "\t\"E07000036_u\" FLOAT NOT NULL, \n",
      "\t\"E07000041_u\" FLOAT NOT NULL, \n",
      "\t\"E07000087_u\" FLOAT NOT NULL, \n",
      "\t\"E07000010_u\" FLOAT NOT NULL, \n",
      "\t\"E07000201_u\" FLOAT NOT NULL, \n",
      "\t\"E07000080_u\" FLOAT NOT NULL, \n",
      "\t\"E07000119_u\" FLOAT NOT NULL, \n",
      "\t\"E08000020_u\" FLOAT NOT NULL, \n",
      "\t\"E07000173_u\" FLOAT NOT NULL, \n",
      "\t\"E07000081_u\" FLOAT NOT NULL, \n",
      "\t\"E07000088_u\" FLOAT NOT NULL, \n",
      "\t\"E07000109_u\" FLOAT NOT NULL, \n",
      "\t\"E07000145_u\" FLOAT NOT NULL, \n",
      "\t\"E09000011_u\" FLOAT NOT NULL, \n",
      "\t\"E07000209_u\" FLOAT NOT NULL, \n",
      "\t\"E09000012_u\" FLOAT NOT NULL, \n",
      "\t\"E06000006_u\" FLOAT NOT NULL, \n",
      "\t\"E07000164_u\" FLOAT NOT NULL, \n",
      "\t\"E09000013_u\" FLOAT NOT NULL, \n",
      "\t\"E07000131_u\" FLOAT NOT NULL, \n",
      "\t\"E09000014_u\" FLOAT NOT NULL, \n",
      "\t\"E07000073_u\" FLOAT NOT NULL, \n",
      "\t\"E07000165_u\" FLOAT NOT NULL, \n",
      "\t\"E09000015_u\" FLOAT NOT NULL, \n",
      "\t\"E07000089_u\" FLOAT NOT NULL, \n",
      "\t\"E06000001_u\" FLOAT NOT NULL, \n",
      "\t\"E07000062_u\" FLOAT NOT NULL, \n",
      "\t\"E07000090_u\" FLOAT NOT NULL, \n",
      "\t\"E09000016_u\" FLOAT NOT NULL, \n",
      "\t\"E06000019_u\" FLOAT NOT NULL, \n",
      "\t\"E07000098_u\" FLOAT NOT NULL, \n",
      "\t\"E07000037_u\" FLOAT NOT NULL, \n",
      "\t\"E09000017_u\" FLOAT NOT NULL, \n",
      "\t\"E07000132_u\" FLOAT NOT NULL, \n",
      "\t\"E07000227_u\" FLOAT NOT NULL, \n",
      "\t\"E09000018_u\" FLOAT NOT NULL, \n",
      "\t\"E07000011_u\" FLOAT NOT NULL, \n",
      "\t\"E07000120_u\" FLOAT NOT NULL, \n",
      "\t\"E07000202_u\" FLOAT NOT NULL, \n",
      "\t\"E06000046_u\" FLOAT NOT NULL, \n",
      "\t\"E06000053_u\" FLOAT NOT NULL, \n",
      "\t\"E09000019_u\" FLOAT NOT NULL, \n",
      "\t\"E09000020_u\" FLOAT NOT NULL, \n",
      "\t\"E07000153_u\" FLOAT NOT NULL, \n",
      "\t\"E07000146_u\" FLOAT NOT NULL, \n",
      "\t\"E06000010_u\" FLOAT NOT NULL, \n",
      "\t\"E09000021_u\" FLOAT NOT NULL, \n",
      "\t\"E08000034_u\" FLOAT NOT NULL, \n",
      "\t\"E08000011_u\" FLOAT NOT NULL, \n",
      "\t\"E09000022_u\" FLOAT NOT NULL, \n",
      "\t\"E07000121_u\" FLOAT NOT NULL, \n",
      "\t\"E08000035_u\" FLOAT NOT NULL, \n",
      "\t\"E06000016_u\" FLOAT NOT NULL, \n",
      "\t\"E07000063_u\" FLOAT NOT NULL, \n",
      "\t\"E09000023_u\" FLOAT NOT NULL, \n",
      "\t\"E07000194_u\" FLOAT NOT NULL, \n",
      "\t\"E07000138_u\" FLOAT NOT NULL, \n",
      "\t\"E08000012_u\" FLOAT NOT NULL, \n",
      "\t\"E06000032_u\" FLOAT NOT NULL, \n",
      "\t\"E07000110_u\" FLOAT NOT NULL, \n",
      "\t\"E07000074_u\" FLOAT NOT NULL, \n",
      "\t\"E07000235_u\" FLOAT NOT NULL, \n",
      "\t\"E08000003_u\" FLOAT NOT NULL, \n",
      "\t\"E07000174_u\" FLOAT NOT NULL, \n",
      "\t\"E06000035_u\" FLOAT NOT NULL, \n",
      "\t\"E07000133_u\" FLOAT NOT NULL, \n",
      "\t\"E07000187_u\" FLOAT NOT NULL, \n",
      "\t\"E09000024_u\" FLOAT NOT NULL, \n",
      "\t\"E07000042_u\" FLOAT NOT NULL, \n",
      "\t\"E07000203_u\" FLOAT NOT NULL, \n",
      "\t\"E07000228_u\" FLOAT NOT NULL, \n",
      "\t\"E06000002_u\" FLOAT NOT NULL, \n",
      "\t\"E06000042_u\" FLOAT NOT NULL, \n",
      "\t\"E07000210_u\" FLOAT NOT NULL, \n",
      "\t\"E07000091_u\" FLOAT NOT NULL, \n",
      "\t\"E07000175_u\" FLOAT NOT NULL, \n",
      "\t\"E08000021_u\" FLOAT NOT NULL, \n",
      "\t\"E07000195_u\" FLOAT NOT NULL, \n",
      "\t\"E09000025_u\" FLOAT NOT NULL, \n",
      "\t\"E07000043_u\" FLOAT NOT NULL, \n",
      "\t\"E07000050_u\" FLOAT NOT NULL, \n",
      "\t\"E07000038_u\" FLOAT NOT NULL, \n",
      "\t\"E06000012_u\" FLOAT NOT NULL, \n",
      "\t\"E07000099_u\" FLOAT NOT NULL, \n",
      "\t\"E07000139_u\" FLOAT NOT NULL, \n",
      "\t\"E06000013_u\" FLOAT NOT NULL, \n",
      "\t\"E07000147_u\" FLOAT NOT NULL, \n",
      "\t\"E06000024_u\" FLOAT NOT NULL, \n",
      "\t\"E08000022_u\" FLOAT NOT NULL, \n",
      "\t\"E07000218_u\" FLOAT NOT NULL, \n",
      "\t\"E07000134_u\" FLOAT NOT NULL, \n",
      "\t\"E07000154_u\" FLOAT NOT NULL, \n",
      "\t\"E06000048_u\" FLOAT NOT NULL, \n",
      "\t\"E07000148_u\" FLOAT NOT NULL, \n",
      "\t\"E06000018_u\" FLOAT NOT NULL, \n",
      "\t\"E07000219_u\" FLOAT NOT NULL, \n",
      "\t\"E07000135_u\" FLOAT NOT NULL, \n",
      "\t\"E08000004_u\" FLOAT NOT NULL, \n",
      "\t\"E07000178_u\" FLOAT NOT NULL, \n",
      "\t\"E07000122_u\" FLOAT NOT NULL, \n",
      "\t\"E06000031_u\" FLOAT NOT NULL, \n",
      "\t\"E06000026_u\" FLOAT NOT NULL, \n",
      "\t\"E06000029_u\" FLOAT NOT NULL, \n",
      "\t\"E06000044_u\" FLOAT NOT NULL, \n",
      "\t\"E07000123_u\" FLOAT NOT NULL, \n",
      "\t\"E07000051_u\" FLOAT NOT NULL, \n",
      "\t\"E06000038_u\" FLOAT NOT NULL, \n",
      "\t\"E09000026_u\" FLOAT NOT NULL, \n",
      "\t\"E06000003_u\" FLOAT NOT NULL, \n",
      "\t\"E07000236_u\" FLOAT NOT NULL, \n",
      "\t\"E07000211_u\" FLOAT NOT NULL, \n",
      "\t\"E07000124_u\" FLOAT NOT NULL, \n",
      "\t\"E09000027_u\" FLOAT NOT NULL, \n",
      "\t\"E07000166_u\" FLOAT NOT NULL, \n",
      "\t\"E08000005_u\" FLOAT NOT NULL, \n",
      "\t\"E07000075_u\" FLOAT NOT NULL, \n",
      "\t\"E07000125_u\" FLOAT NOT NULL, \n",
      "\t\"E07000064_u\" FLOAT NOT NULL, \n",
      "\t\"E08000018_u\" FLOAT NOT NULL, \n",
      "\t\"E07000220_u\" FLOAT NOT NULL, \n",
      "\t\"E07000212_u\" FLOAT NOT NULL, \n",
      "\t\"E07000176_u\" FLOAT NOT NULL, \n",
      "\t\"E07000092_u\" FLOAT NOT NULL, \n",
      "\t\"E06000017_u\" FLOAT NOT NULL, \n",
      "\t\"E07000167_u\" FLOAT NOT NULL, \n",
      "\t\"E08000006_u\" FLOAT NOT NULL, \n",
      "\t\"E08000028_u\" FLOAT NOT NULL, \n",
      "\t\"E07000168_u\" FLOAT NOT NULL, \n",
      "\t\"E07000188_u\" FLOAT NOT NULL, \n",
      "\t\"E08000014_u\" FLOAT NOT NULL, \n",
      "\t\"E07000169_u\" FLOAT NOT NULL, \n",
      "\t\"E07000111_u\" FLOAT NOT NULL, \n",
      "\t\"E08000019_u\" FLOAT NOT NULL, \n",
      "\t\"E07000112_u\" FLOAT NOT NULL, \n",
      "\t\"E06000051_u\" FLOAT NOT NULL, \n",
      "\t\"E06000039_u\" FLOAT NOT NULL, \n",
      "\t\"E08000029_u\" FLOAT NOT NULL, \n",
      "\t\"E07000006_u\" FLOAT NOT NULL, \n",
      "\t\"E07000012_u\" FLOAT NOT NULL, \n",
      "\t\"E07000039_u\" FLOAT NOT NULL, \n",
      "\t\"E06000025_u\" FLOAT NOT NULL, \n",
      "\t\"E07000044_u\" FLOAT NOT NULL, \n",
      "\t\"E07000140_u\" FLOAT NOT NULL, \n",
      "\t\"E07000141_u\" FLOAT NOT NULL, \n",
      "\t\"E07000031_u\" FLOAT NOT NULL, \n",
      "\t\"E07000149_u\" FLOAT NOT NULL, \n",
      "\t\"E07000155_u\" FLOAT NOT NULL, \n",
      "\t\"E07000179_u\" FLOAT NOT NULL, \n",
      "\t\"E07000126_u\" FLOAT NOT NULL, \n",
      "\t\"E07000189_u\" FLOAT NOT NULL, \n",
      "\t\"E07000196_u\" FLOAT NOT NULL, \n",
      "\t\"E08000023_u\" FLOAT NOT NULL, \n",
      "\t\"E06000045_u\" FLOAT NOT NULL, \n",
      "\t\"E06000033_u\" FLOAT NOT NULL, \n",
      "\t\"E09000028_u\" FLOAT NOT NULL, \n",
      "\t\"E07000213_u\" FLOAT NOT NULL, \n",
      "\t\"E07000100_u\" FLOAT NOT NULL, \n",
      "\t\"E07000204_u\" FLOAT NOT NULL, \n",
      "\t\"E08000013_u\" FLOAT NOT NULL, \n",
      "\t\"E07000197_u\" FLOAT NOT NULL, \n",
      "\t\"E07000198_u\" FLOAT NOT NULL, \n",
      "\t\"E07000101_u\" FLOAT NOT NULL, \n",
      "\t\"E08000007_u\" FLOAT NOT NULL, \n",
      "\t\"E06000004_u\" FLOAT NOT NULL, \n",
      "\t\"E06000021_u\" FLOAT NOT NULL, \n",
      "\t\"E07000221_u\" FLOAT NOT NULL, \n",
      "\t\"E07000082_u\" FLOAT NOT NULL, \n",
      "\t\"E07000205_u\" FLOAT NOT NULL, \n",
      "\t\"E08000024_u\" FLOAT NOT NULL, \n",
      "\t\"E07000214_u\" FLOAT NOT NULL, \n",
      "\t\"E09000029_u\" FLOAT NOT NULL, \n",
      "\t\"E07000113_u\" FLOAT NOT NULL, \n",
      "\t\"E06000030_u\" FLOAT NOT NULL, \n",
      "\t\"E08000008_u\" FLOAT NOT NULL, \n",
      "\t\"E07000199_u\" FLOAT NOT NULL, \n",
      "\t\"E07000215_u\" FLOAT NOT NULL, \n",
      "\t\"E07000190_u\" FLOAT NOT NULL, \n",
      "\t\"E07000045_u\" FLOAT NOT NULL, \n",
      "\t\"E06000020_u\" FLOAT NOT NULL, \n",
      "\t\"E07000076_u\" FLOAT NOT NULL, \n",
      "\t\"E07000093_u\" FLOAT NOT NULL, \n",
      "\t\"E07000083_u\" FLOAT NOT NULL, \n",
      "\t\"E07000114_u\" FLOAT NOT NULL, \n",
      "\t\"E07000102_u\" FLOAT NOT NULL, \n",
      "\t\"E06000034_u\" FLOAT NOT NULL, \n",
      "\t\"E07000115_u\" FLOAT NOT NULL, \n",
      "\t\"E06000027_u\" FLOAT NOT NULL, \n",
      "\t\"E07000046_u\" FLOAT NOT NULL, \n",
      "\t\"E09000030_u\" FLOAT NOT NULL, \n",
      "\t\"E08000009_u\" FLOAT NOT NULL, \n",
      "\t\"E07000116_u\" FLOAT NOT NULL, \n",
      "\t\"E07000077_u\" FLOAT NOT NULL, \n",
      "\t\"E07000180_u\" FLOAT NOT NULL, \n",
      "\t\"E08000036_u\" FLOAT NOT NULL, \n",
      "\t\"E08000030_u\" FLOAT NOT NULL, \n",
      "\t\"E09000031_u\" FLOAT NOT NULL, \n",
      "\t\"E09000032_u\" FLOAT NOT NULL, \n",
      "\t\"E06000007_u\" FLOAT NOT NULL, \n",
      "\t\"E07000222_u\" FLOAT NOT NULL, \n",
      "\t\"E07000103_u\" FLOAT NOT NULL, \n",
      "\t\"E07000206_u\" FLOAT NOT NULL, \n",
      "\t\"E07000216_u\" FLOAT NOT NULL, \n",
      "\t\"E07000065_u\" FLOAT NOT NULL, \n",
      "\t\"E07000156_u\" FLOAT NOT NULL, \n",
      "\t\"E07000104_u\" FLOAT NOT NULL, \n",
      "\t\"E06000037_u\" FLOAT NOT NULL, \n",
      "\t\"E07000047_u\" FLOAT NOT NULL, \n",
      "\t\"E07000052_u\" FLOAT NOT NULL, \n",
      "\t\"E07000127_u\" FLOAT NOT NULL, \n",
      "\t\"E07000142_u\" FLOAT NOT NULL, \n",
      "\t\"E07000181_u\" FLOAT NOT NULL, \n",
      "\t\"E07000191_u\" FLOAT NOT NULL, \n",
      "\t\"E09000033_u\" FLOAT NOT NULL, \n",
      "\t\"E07000053_u\" FLOAT NOT NULL, \n",
      "\t\"E08000010_u\" FLOAT NOT NULL, \n",
      "\t\"E06000054_u\" FLOAT NOT NULL, \n",
      "\t\"E07000094_u\" FLOAT NOT NULL, \n",
      "\t\"E06000040_u\" FLOAT NOT NULL, \n",
      "\t\"E08000015_u\" FLOAT NOT NULL, \n",
      "\t\"E07000217_u\" FLOAT NOT NULL, \n",
      "\t\"E06000041_u\" FLOAT NOT NULL, \n",
      "\t\"E08000031_u\" FLOAT NOT NULL, \n",
      "\t\"E07000237_u\" FLOAT NOT NULL, \n",
      "\t\"E07000229_u\" FLOAT NOT NULL, \n",
      "\t\"E07000238_u\" FLOAT NOT NULL, \n",
      "\t\"E07000007_u\" FLOAT NOT NULL, \n",
      "\t\"E07000128_u\" FLOAT NOT NULL, \n",
      "\t\"E07000239_u\" FLOAT NOT NULL, \n",
      "\t\"E06000014_u\" FLOAT NOT NULL, \n",
      "\t\"E07000223_d\" FLOAT NOT NULL, \n",
      "\t\"E07000026_d\" FLOAT NOT NULL, \n",
      "\t\"E07000032_d\" FLOAT NOT NULL, \n",
      "\t\"E07000224_d\" FLOAT NOT NULL, \n",
      "\t\"E07000170_d\" FLOAT NOT NULL, \n",
      "\t\"E07000105_d\" FLOAT NOT NULL, \n",
      "\t\"E07000004_d\" FLOAT NOT NULL, \n",
      "\t\"E07000200_d\" FLOAT NOT NULL, \n",
      "\t\"E09000002_d\" FLOAT NOT NULL, \n",
      "\t\"E09000003_d\" FLOAT NOT NULL, \n",
      "\t\"E08000016_d\" FLOAT NOT NULL, \n",
      "\t\"E07000027_d\" FLOAT NOT NULL, \n",
      "\t\"E07000066_d\" FLOAT NOT NULL, \n",
      "\t\"E07000084_d\" FLOAT NOT NULL, \n",
      "\t\"E07000171_d\" FLOAT NOT NULL, \n",
      "\t\"E06000022_d\" FLOAT NOT NULL, \n",
      "\t\"E06000055_d\" FLOAT NOT NULL, \n",
      "\t\"E09000004_d\" FLOAT NOT NULL, \n",
      "\t\"E08000025_d\" FLOAT NOT NULL, \n",
      "\t\"E07000129_d\" FLOAT NOT NULL, \n",
      "\t\"E06000008_d\" FLOAT NOT NULL, \n",
      "\t\"E06000009_d\" FLOAT NOT NULL, \n",
      "\t\"E07000033_d\" FLOAT NOT NULL, \n",
      "\t\"E08000001_d\" FLOAT NOT NULL, \n",
      "\t\"E07000136_d\" FLOAT NOT NULL, \n",
      "\t\"E06000028_d\" FLOAT NOT NULL, \n",
      "\t\"E06000036_d\" FLOAT NOT NULL, \n",
      "\t\"E08000032_d\" FLOAT NOT NULL, \n",
      "\t\"E07000067_d\" FLOAT NOT NULL, \n",
      "\t\"E07000143_d\" FLOAT NOT NULL, \n",
      "\t\"E09000005_d\" FLOAT NOT NULL, \n",
      "\t\"E07000068_d\" FLOAT NOT NULL, \n",
      "\t\"E06000043_d\" FLOAT NOT NULL, \n",
      "\t\"E06000023_d\" FLOAT NOT NULL, \n",
      "\t\"E07000144_d\" FLOAT NOT NULL, \n",
      "\t\"E09000006_d\" FLOAT NOT NULL, \n",
      "\t\"E07000234_d\" FLOAT NOT NULL, \n",
      "\t\"E07000095_d\" FLOAT NOT NULL, \n",
      "\t\"E07000172_d\" FLOAT NOT NULL, \n",
      "\t\"E07000117_d\" FLOAT NOT NULL, \n",
      "\t\"E08000002_d\" FLOAT NOT NULL, \n",
      "\t\"E08000033_d\" FLOAT NOT NULL, \n",
      "\t\"E07000008_d\" FLOAT NOT NULL, \n",
      "\t\"E09000007_d\" FLOAT NOT NULL, \n",
      "\t\"E07000192_d\" FLOAT NOT NULL, \n",
      "\t\"E07000106_d\" FLOAT NOT NULL, \n",
      "\t\"E07000028_d\" FLOAT NOT NULL, \n",
      "\t\"E07000069_d\" FLOAT NOT NULL, \n",
      "\t\"E06000056_d\" FLOAT NOT NULL, \n",
      "\t\"E07000130_d\" FLOAT NOT NULL, \n",
      "\t\"E07000070_d\" FLOAT NOT NULL, \n",
      "\t\"E07000078_d\" FLOAT NOT NULL, \n",
      "\t\"E07000177_d\" FLOAT NOT NULL, \n",
      "\t\"E06000049_d\" FLOAT NOT NULL, \n",
      "\t\"E06000050_d\" FLOAT NOT NULL, \n",
      "\t\"E07000034_d\" FLOAT NOT NULL, \n",
      "\t\"E07000225_d\" FLOAT NOT NULL, \n",
      "\t\"E07000005_d\" FLOAT NOT NULL, \n",
      "\t\"E07000118_d\" FLOAT NOT NULL, \n",
      "\t\"E07000048_d\" FLOAT NOT NULL, \n",
      "\t\"E09000001_d\" FLOAT NOT NULL, \n",
      "\t\"E07000071_d\" FLOAT NOT NULL, \n",
      "\t\"E07000029_d\" FLOAT NOT NULL, \n",
      "\t\"E07000150_d\" FLOAT NOT NULL, \n",
      "\t\"E06000052_d\" FLOAT NOT NULL, \n",
      "\t\"E07000079_d\" FLOAT NOT NULL, \n",
      "\t\"E06000047_d\" FLOAT NOT NULL, \n",
      "\t\"E08000026_d\" FLOAT NOT NULL, \n",
      "\t\"E07000163_d\" FLOAT NOT NULL, \n",
      "\t\"E07000226_d\" FLOAT NOT NULL, \n",
      "\t\"E09000008_d\" FLOAT NOT NULL, \n",
      "\t\"E07000096_d\" FLOAT NOT NULL, \n",
      "\t\"E06000005_d\" FLOAT NOT NULL, \n",
      "\t\"E07000107_d\" FLOAT NOT NULL, \n",
      "\t\"E07000151_d\" FLOAT NOT NULL, \n",
      "\t\"E06000015_d\" FLOAT NOT NULL, \n",
      "\t\"E07000035_d\" FLOAT NOT NULL, \n",
      "\t\"E08000017_d\" FLOAT NOT NULL, \n",
      "\t\"E07000108_d\" FLOAT NOT NULL, \n",
      "\t\"E08000027_d\" FLOAT NOT NULL, \n",
      "\t\"E09000009_d\" FLOAT NOT NULL, \n",
      "\t\"E07000009_d\" FLOAT NOT NULL, \n",
      "\t\"E07000040_d\" FLOAT NOT NULL, \n",
      "\t\"E07000049_d\" FLOAT NOT NULL, \n",
      "\t\"E07000085_d\" FLOAT NOT NULL, \n",
      "\t\"E07000097_d\" FLOAT NOT NULL, \n",
      "\t\"E07000137_d\" FLOAT NOT NULL, \n",
      "\t\"E07000152_d\" FLOAT NOT NULL, \n",
      "\t\"E06000011_d\" FLOAT NOT NULL, \n",
      "\t\"E07000193_d\" FLOAT NOT NULL, \n",
      "\t\"E07000061_d\" FLOAT NOT NULL, \n",
      "\t\"E07000086_d\" FLOAT NOT NULL, \n",
      "\t\"E07000030_d\" FLOAT NOT NULL, \n",
      "\t\"E07000207_d\" FLOAT NOT NULL, \n",
      "\t\"E09000010_d\" FLOAT NOT NULL, \n",
      "\t\"E07000072_d\" FLOAT NOT NULL, \n",
      "\t\"E07000208_d\" FLOAT NOT NULL, \n",
      "\t\"E07000036_d\" FLOAT NOT NULL, \n",
      "\t\"E07000041_d\" FLOAT NOT NULL, \n",
      "\t\"E07000087_d\" FLOAT NOT NULL, \n",
      "\t\"E07000010_d\" FLOAT NOT NULL, \n",
      "\t\"E07000201_d\" FLOAT NOT NULL, \n",
      "\t\"E07000080_d\" FLOAT NOT NULL, \n",
      "\t\"E07000119_d\" FLOAT NOT NULL, \n",
      "\t\"E08000020_d\" FLOAT NOT NULL, \n",
      "\t\"E07000173_d\" FLOAT NOT NULL, \n",
      "\t\"E07000081_d\" FLOAT NOT NULL, \n",
      "\t\"E07000088_d\" FLOAT NOT NULL, \n",
      "\t\"E07000109_d\" FLOAT NOT NULL, \n",
      "\t\"E07000145_d\" FLOAT NOT NULL, \n",
      "\t\"E09000011_d\" FLOAT NOT NULL, \n",
      "\t\"E07000209_d\" FLOAT NOT NULL, \n",
      "\t\"E09000012_d\" FLOAT NOT NULL, \n",
      "\t\"E06000006_d\" FLOAT NOT NULL, \n",
      "\t\"E07000164_d\" FLOAT NOT NULL, \n",
      "\t\"E09000013_d\" FLOAT NOT NULL, \n",
      "\t\"E07000131_d\" FLOAT NOT NULL, \n",
      "\t\"E09000014_d\" FLOAT NOT NULL, \n",
      "\t\"E07000073_d\" FLOAT NOT NULL, \n",
      "\t\"E07000165_d\" FLOAT NOT NULL, \n",
      "\t\"E09000015_d\" FLOAT NOT NULL, \n",
      "\t\"E07000089_d\" FLOAT NOT NULL, \n",
      "\t\"E06000001_d\" FLOAT NOT NULL, \n",
      "\t\"E07000062_d\" FLOAT NOT NULL, \n",
      "\t\"E07000090_d\" FLOAT NOT NULL, \n",
      "\t\"E09000016_d\" FLOAT NOT NULL, \n",
      "\t\"E06000019_d\" FLOAT NOT NULL, \n",
      "\t\"E07000098_d\" FLOAT NOT NULL, \n",
      "\t\"E07000037_d\" FLOAT NOT NULL, \n",
      "\t\"E09000017_d\" FLOAT NOT NULL, \n",
      "\t\"E07000132_d\" FLOAT NOT NULL, \n",
      "\t\"E07000227_d\" FLOAT NOT NULL, \n",
      "\t\"E09000018_d\" FLOAT NOT NULL, \n",
      "\t\"E07000011_d\" FLOAT NOT NULL, \n",
      "\t\"E07000120_d\" FLOAT NOT NULL, \n",
      "\t\"E07000202_d\" FLOAT NOT NULL, \n",
      "\t\"E06000046_d\" FLOAT NOT NULL, \n",
      "\t\"E06000053_d\" FLOAT NOT NULL, \n",
      "\t\"E09000019_d\" FLOAT NOT NULL, \n",
      "\t\"E09000020_d\" FLOAT NOT NULL, \n",
      "\t\"E07000153_d\" FLOAT NOT NULL, \n",
      "\t\"E07000146_d\" FLOAT NOT NULL, \n",
      "\t\"E06000010_d\" FLOAT NOT NULL, \n",
      "\t\"E09000021_d\" FLOAT NOT NULL, \n",
      "\t\"E08000034_d\" FLOAT NOT NULL, \n",
      "\t\"E08000011_d\" FLOAT NOT NULL, \n",
      "\t\"E09000022_d\" FLOAT NOT NULL, \n",
      "\t\"E07000121_d\" FLOAT NOT NULL, \n",
      "\t\"E08000035_d\" FLOAT NOT NULL, \n",
      "\t\"E06000016_d\" FLOAT NOT NULL, \n",
      "\t\"E07000063_d\" FLOAT NOT NULL, \n",
      "\t\"E09000023_d\" FLOAT NOT NULL, \n",
      "\t\"E07000194_d\" FLOAT NOT NULL, \n",
      "\t\"E07000138_d\" FLOAT NOT NULL, \n",
      "\t\"E08000012_d\" FLOAT NOT NULL, \n",
      "\t\"E06000032_d\" FLOAT NOT NULL, \n",
      "\t\"E07000110_d\" FLOAT NOT NULL, \n",
      "\t\"E07000074_d\" FLOAT NOT NULL, \n",
      "\t\"E07000235_d\" FLOAT NOT NULL, \n",
      "\t\"E08000003_d\" FLOAT NOT NULL, \n",
      "\t\"E07000174_d\" FLOAT NOT NULL, \n",
      "\t\"E06000035_d\" FLOAT NOT NULL, \n",
      "\t\"E07000133_d\" FLOAT NOT NULL, \n",
      "\t\"E07000187_d\" FLOAT NOT NULL, \n",
      "\t\"E09000024_d\" FLOAT NOT NULL, \n",
      "\t\"E07000042_d\" FLOAT NOT NULL, \n",
      "\t\"E07000203_d\" FLOAT NOT NULL, \n",
      "\t\"E07000228_d\" FLOAT NOT NULL, \n",
      "\t\"E06000002_d\" FLOAT NOT NULL, \n",
      "\t\"E06000042_d\" FLOAT NOT NULL, \n",
      "\t\"E07000210_d\" FLOAT NOT NULL, \n",
      "\t\"E07000091_d\" FLOAT NOT NULL, \n",
      "\t\"E07000175_d\" FLOAT NOT NULL, \n",
      "\t\"E08000021_d\" FLOAT NOT NULL, \n",
      "\t\"E07000195_d\" FLOAT NOT NULL, \n",
      "\t\"E09000025_d\" FLOAT NOT NULL, \n",
      "\t\"E07000043_d\" FLOAT NOT NULL, \n",
      "\t\"E07000050_d\" FLOAT NOT NULL, \n",
      "\t\"E07000038_d\" FLOAT NOT NULL, \n",
      "\t\"E06000012_d\" FLOAT NOT NULL, \n",
      "\t\"E07000099_d\" FLOAT NOT NULL, \n",
      "\t\"E07000139_d\" FLOAT NOT NULL, \n",
      "\t\"E06000013_d\" FLOAT NOT NULL, \n",
      "\t\"E07000147_d\" FLOAT NOT NULL, \n",
      "\t\"E06000024_d\" FLOAT NOT NULL, \n",
      "\t\"E08000022_d\" FLOAT NOT NULL, \n",
      "\t\"E07000218_d\" FLOAT NOT NULL, \n",
      "\t\"E07000134_d\" FLOAT NOT NULL, \n",
      "\t\"E07000154_d\" FLOAT NOT NULL, \n",
      "\t\"E06000048_d\" FLOAT NOT NULL, \n",
      "\t\"E07000148_d\" FLOAT NOT NULL, \n",
      "\t\"E06000018_d\" FLOAT NOT NULL, \n",
      "\t\"E07000219_d\" FLOAT NOT NULL, \n",
      "\t\"E07000135_d\" FLOAT NOT NULL, \n",
      "\t\"E08000004_d\" FLOAT NOT NULL, \n",
      "\t\"E07000178_d\" FLOAT NOT NULL, \n",
      "\t\"E07000122_d\" FLOAT NOT NULL, \n",
      "\t\"E06000031_d\" FLOAT NOT NULL, \n",
      "\t\"E06000026_d\" FLOAT NOT NULL, \n",
      "\t\"E06000029_d\" FLOAT NOT NULL, \n",
      "\t\"E06000044_d\" FLOAT NOT NULL, \n",
      "\t\"E07000123_d\" FLOAT NOT NULL, \n",
      "\t\"E07000051_d\" FLOAT NOT NULL, \n",
      "\t\"E06000038_d\" FLOAT NOT NULL, \n",
      "\t\"E09000026_d\" FLOAT NOT NULL, \n",
      "\t\"E06000003_d\" FLOAT NOT NULL, \n",
      "\t\"E07000236_d\" FLOAT NOT NULL, \n",
      "\t\"E07000211_d\" FLOAT NOT NULL, \n",
      "\t\"E07000124_d\" FLOAT NOT NULL, \n",
      "\t\"E09000027_d\" FLOAT NOT NULL, \n",
      "\t\"E07000166_d\" FLOAT NOT NULL, \n",
      "\t\"E08000005_d\" FLOAT NOT NULL, \n",
      "\t\"E07000075_d\" FLOAT NOT NULL, \n",
      "\t\"E07000125_d\" FLOAT NOT NULL, \n",
      "\t\"E07000064_d\" FLOAT NOT NULL, \n",
      "\t\"E08000018_d\" FLOAT NOT NULL, \n",
      "\t\"E07000220_d\" FLOAT NOT NULL, \n",
      "\t\"E07000212_d\" FLOAT NOT NULL, \n",
      "\t\"E07000176_d\" FLOAT NOT NULL, \n",
      "\t\"E07000092_d\" FLOAT NOT NULL, \n",
      "\t\"E06000017_d\" FLOAT NOT NULL, \n",
      "\t\"E07000167_d\" FLOAT NOT NULL, \n",
      "\t\"E08000006_d\" FLOAT NOT NULL, \n",
      "\t\"E08000028_d\" FLOAT NOT NULL, \n",
      "\t\"E07000168_d\" FLOAT NOT NULL, \n",
      "\t\"E07000188_d\" FLOAT NOT NULL, \n",
      "\t\"E08000014_d\" FLOAT NOT NULL, \n",
      "\t\"E07000169_d\" FLOAT NOT NULL, \n",
      "\t\"E07000111_d\" FLOAT NOT NULL, \n",
      "\t\"E08000019_d\" FLOAT NOT NULL, \n",
      "\t\"E07000112_d\" FLOAT NOT NULL, \n",
      "\t\"E06000051_d\" FLOAT NOT NULL, \n",
      "\t\"E06000039_d\" FLOAT NOT NULL, \n",
      "\t\"E08000029_d\" FLOAT NOT NULL, \n",
      "\t\"E07000006_d\" FLOAT NOT NULL, \n",
      "\t\"E07000012_d\" FLOAT NOT NULL, \n",
      "\t\"E07000039_d\" FLOAT NOT NULL, \n",
      "\t\"E06000025_d\" FLOAT NOT NULL, \n",
      "\t\"E07000044_d\" FLOAT NOT NULL, \n",
      "\t\"E07000140_d\" FLOAT NOT NULL, \n",
      "\t\"E07000141_d\" FLOAT NOT NULL, \n",
      "\t\"E07000031_d\" FLOAT NOT NULL, \n",
      "\t\"E07000149_d\" FLOAT NOT NULL, \n",
      "\t\"E07000155_d\" FLOAT NOT NULL, \n",
      "\t\"E07000179_d\" FLOAT NOT NULL, \n",
      "\t\"E07000126_d\" FLOAT NOT NULL, \n",
      "\t\"E07000189_d\" FLOAT NOT NULL, \n",
      "\t\"E07000196_d\" FLOAT NOT NULL, \n",
      "\t\"E08000023_d\" FLOAT NOT NULL, \n",
      "\t\"E06000045_d\" FLOAT NOT NULL, \n",
      "\t\"E06000033_d\" FLOAT NOT NULL, \n",
      "\t\"E09000028_d\" FLOAT NOT NULL, \n",
      "\t\"E07000213_d\" FLOAT NOT NULL, \n",
      "\t\"E07000100_d\" FLOAT NOT NULL, \n",
      "\t\"E07000204_d\" FLOAT NOT NULL, \n",
      "\t\"E08000013_d\" FLOAT NOT NULL, \n",
      "\t\"E07000197_d\" FLOAT NOT NULL, \n",
      "\t\"E07000198_d\" FLOAT NOT NULL, \n",
      "\t\"E07000101_d\" FLOAT NOT NULL, \n",
      "\t\"E08000007_d\" FLOAT NOT NULL, \n",
      "\t\"E06000004_d\" FLOAT NOT NULL, \n",
      "\t\"E06000021_d\" FLOAT NOT NULL, \n",
      "\t\"E07000221_d\" FLOAT NOT NULL, \n",
      "\t\"E07000082_d\" FLOAT NOT NULL, \n",
      "\t\"E07000205_d\" FLOAT NOT NULL, \n",
      "\t\"E08000024_d\" FLOAT NOT NULL, \n",
      "\t\"E07000214_d\" FLOAT NOT NULL, \n",
      "\t\"E09000029_d\" FLOAT NOT NULL, \n",
      "\t\"E07000113_d\" FLOAT NOT NULL, \n",
      "\t\"E06000030_d\" FLOAT NOT NULL, \n",
      "\t\"E08000008_d\" FLOAT NOT NULL, \n",
      "\t\"E07000199_d\" FLOAT NOT NULL, \n",
      "\t\"E07000215_d\" FLOAT NOT NULL, \n",
      "\t\"E07000190_d\" FLOAT NOT NULL, \n",
      "\t\"E07000045_d\" FLOAT NOT NULL, \n",
      "\t\"E06000020_d\" FLOAT NOT NULL, \n",
      "\t\"E07000076_d\" FLOAT NOT NULL, \n",
      "\t\"E07000093_d\" FLOAT NOT NULL, \n",
      "\t\"E07000083_d\" FLOAT NOT NULL, \n",
      "\t\"E07000114_d\" FLOAT NOT NULL, \n",
      "\t\"E07000102_d\" FLOAT NOT NULL, \n",
      "\t\"E06000034_d\" FLOAT NOT NULL, \n",
      "\t\"E07000115_d\" FLOAT NOT NULL, \n",
      "\t\"E06000027_d\" FLOAT NOT NULL, \n",
      "\t\"E07000046_d\" FLOAT NOT NULL, \n",
      "\t\"E09000030_d\" FLOAT NOT NULL, \n",
      "\t\"E08000009_d\" FLOAT NOT NULL, \n",
      "\t\"E07000116_d\" FLOAT NOT NULL, \n",
      "\t\"E07000077_d\" FLOAT NOT NULL, \n",
      "\t\"E07000180_d\" FLOAT NOT NULL, \n",
      "\t\"E08000036_d\" FLOAT NOT NULL, \n",
      "\t\"E08000030_d\" FLOAT NOT NULL, \n",
      "\t\"E09000031_d\" FLOAT NOT NULL, \n",
      "\t\"E09000032_d\" FLOAT NOT NULL, \n",
      "\t\"E06000007_d\" FLOAT NOT NULL, \n",
      "\t\"E07000222_d\" FLOAT NOT NULL, \n",
      "\t\"E07000103_d\" FLOAT NOT NULL, \n",
      "\t\"E07000206_d\" FLOAT NOT NULL, \n",
      "\t\"E07000216_d\" FLOAT NOT NULL, \n",
      "\t\"E07000065_d\" FLOAT NOT NULL, \n",
      "\t\"E07000156_d\" FLOAT NOT NULL, \n",
      "\t\"E07000104_d\" FLOAT NOT NULL, \n",
      "\t\"E06000037_d\" FLOAT NOT NULL, \n",
      "\t\"E07000047_d\" FLOAT NOT NULL, \n",
      "\t\"E07000052_d\" FLOAT NOT NULL, \n",
      "\t\"E07000127_d\" FLOAT NOT NULL, \n",
      "\t\"E07000142_d\" FLOAT NOT NULL, \n",
      "\t\"E07000181_d\" FLOAT NOT NULL, \n",
      "\t\"E07000191_d\" FLOAT NOT NULL, \n",
      "\t\"E09000033_d\" FLOAT NOT NULL, \n",
      "\t\"E07000053_d\" FLOAT NOT NULL, \n",
      "\t\"E08000010_d\" FLOAT NOT NULL, \n",
      "\t\"E06000054_d\" FLOAT NOT NULL, \n",
      "\t\"E07000094_d\" FLOAT NOT NULL, \n",
      "\t\"E06000040_d\" FLOAT NOT NULL, \n",
      "\t\"E08000015_d\" FLOAT NOT NULL, \n",
      "\t\"E07000217_d\" FLOAT NOT NULL, \n",
      "\t\"E06000041_d\" FLOAT NOT NULL, \n",
      "\t\"E08000031_d\" FLOAT NOT NULL, \n",
      "\t\"E07000237_d\" FLOAT NOT NULL, \n",
      "\t\"E07000229_d\" FLOAT NOT NULL, \n",
      "\t\"E07000238_d\" FLOAT NOT NULL, \n",
      "\t\"E07000007_d\" FLOAT NOT NULL, \n",
      "\t\"E07000128_d\" FLOAT NOT NULL, \n",
      "\t\"E07000239_d\" FLOAT NOT NULL, \n",
      "\t\"E06000014_d\" FLOAT NOT NULL, \n",
      "\t\"DateTime\" TIMESTAMP\n",
      ")\n",
      "\n",
      "]\n",
      "(Background on this error at: https://sqlalche.me/e/20/e3q8)\n"
     ]
    }
   ],
   "source": [
    "# Code Cell 4\n",
    "# Removing database if already existing\n",
    "!test -e InternetSpeed.db && rm InternetSpeed.db\n",
    "# Importing the LA_wifi_speed_UK.csv file into a sql database file InternetSpeed.db\n",
    "!csvsql --db sqlite:///InternetSpeed.db --insert ./Data/LA_wifi_speed_UK.csv\n",
    "# This will take a while "
   ]
  },
  {
   "cell_type": "markdown",
   "metadata": {},
   "source": [
    "## Part 2: Connect to the Database "
   ]
  },
  {
   "cell_type": "markdown",
   "metadata": {},
   "source": [
    "Python is used to connect to the database and run some queries to see what this data looks like.\n",
    "\n",
    "Import the libraries:\n"
   ]
  },
  {
   "cell_type": "code",
   "execution_count": 163,
   "metadata": {
    "collapsed": true
   },
   "outputs": [],
   "source": [
    "# Code Cell 5\n",
    "# this is the library to talk to the database\n",
    "import sqlite3\n",
    "import pandas as pd\n",
    "# this is a library for data visualization\n",
    "from matplotlib import pyplot as plt\n",
    "# this is to say that we want our plots to be part of this page, and not opened in a new window\n",
    "%matplotlib inline"
   ]
  },
  {
   "cell_type": "markdown",
   "metadata": {},
   "source": [
    "You can find sqlite3 for Python documentation here: https://docs.python.org/2/library/sqlite3.html\n",
    "\n",
    "#### Step 1: Connect and execute a query.\n",
    "An open connection and a cursor is needed to communicate with the database. The cursor is a control structure that will enable us to navigate through tables and records. \n",
    "\n",
    "To open a connection, call the method `connect` of the library `sqlite3`. This function takes a string containing the name of the database for which the connection is needed.\n",
    "\n",
    "In this case, the command will be:\n",
    "\n",
    "    sqlite3.connect('InternetSpeed.db')\n",
    "\n",
    "This function returns the connection that will be stored as a variable, called `conn`. To create the cursor, call the method `cursor()` in the following way:\n",
    "\n",
    "    conn.cursor()\n",
    "\n",
    "Save it in a variable called `cur`.\n",
    " \n",
    "\n",
    "###### a) Connect to the database you just created, and then create a cursor pointing to the database.\n"
   ]
  },
  {
   "cell_type": "code",
   "execution_count": 165,
   "metadata": {
    "collapsed": true
   },
   "outputs": [],
   "source": [
    "# Code Cell 6\n",
    "# what is the name of the database you want to connect to?\n",
    "conn = sqlite3.connect(\"InternetSpeed.db\")\n",
    "cur = conn.cursor()"
   ]
  },
  {
   "cell_type": "markdown",
   "metadata": {},
   "source": [
    "In order to execute a query on the database, we will need to use the cursor we just created and the method `execute()`. This method takes as input a string containing the query we are interested in. We can store the string in a variable, let's call it `query`. Call the method in this way:\n",
    "\n",
    "    cur.execute(query)\n",
    "\n",
    "The table we want to query is not very good for visualization, so we are going to SELECT only the column DateTime, that contains date and time of the measurements. We will LIMIT the number of rows retrieved by the query to 10.\n",
    "\n",
    "###### b) Execute a query. \n",
    "Select the first 10 rows from the DateTime column. \n",
    "\n",
    "Hint: if you want to check the name of the tables in your database, go back to the interactive command line and use this code:\n",
    "    \n",
    "    .tables"
   ]
  },
  {
   "cell_type": "code",
   "execution_count": 166,
   "metadata": {
    "collapsed": true
   },
   "outputs": [
    {
     "data": {
      "text/plain": [
       "<sqlite3.Cursor at 0x1454e0efec0>"
      ]
     },
     "execution_count": 166,
     "metadata": {},
     "output_type": "execute_result"
    }
   ],
   "source": [
    "# Code Cell 7\n",
    "# complete the query with the field you want to select, the table you want to select the field from,\n",
    "# and the field you want your results to be ordered by\n",
    "# query = 'SELECT ? FROM ? ORDER BY ? LIMIT ?;'\n",
    "# Execute the query\n",
    "# cur.?(?)query_date = 'SELECT Datetime FROM LA_wifi_speed_UK ORDER BY RANDOM() LIMIT 10'\n",
    "\n",
    "query = 'SELECT DateTime FROM LA_wifi_speed_UK ORDER BY DateTime LIMIT 10'\n",
    "cur.execute(query)\n"
   ]
  },
  {
   "cell_type": "markdown",
   "metadata": {},
   "source": [
    "The query result is stored in `cur`. We need to iterate over it in order to visualize the result."
   ]
  },
  {
   "cell_type": "code",
   "execution_count": 167,
   "metadata": {
    "collapsed": true
   },
   "outputs": [
    {
     "name": "stdout",
     "output_type": "stream",
     "text": [
      "('2016-11-23 00:00:00.000000',)\n",
      "('2016-11-23 00:30:00.000000',)\n",
      "('2016-11-23 01:00:00.000000',)\n",
      "('2016-11-23 01:30:00.000000',)\n",
      "('2016-11-23 02:00:00.000000',)\n",
      "('2016-11-23 02:30:00.000000',)\n",
      "('2016-11-23 03:00:00.000000',)\n",
      "('2016-11-23 03:30:00.000000',)\n",
      "('2016-11-23 04:00:00.000000',)\n",
      "('2016-11-23 04:30:00.000000',)\n"
     ]
    }
   ],
   "source": [
    "# Code Cell 8\n",
    "for row in cur.execute(query):\n",
    "    print(row)"
   ]
  },
  {
   "cell_type": "markdown",
   "metadata": {},
   "source": [
    "**Note**: We need to sort the table containing the measurement according to the column DateTime. This is because SQL does not have an intrinsic ordering of the rows, and we are dealing with a time series, that without the correct ordering, don't make any sense. Selecting a random sample of rows would remove the temporal component:\n"
   ]
  },
  {
   "cell_type": "code",
   "execution_count": 168,
   "metadata": {
    "collapsed": true
   },
   "outputs": [
    {
     "name": "stdout",
     "output_type": "stream",
     "text": [
      "('2016-11-24 10:00:00.000000',)\n",
      "('2016-12-04 10:00:00.000000',)\n",
      "('2016-11-23 18:30:00.000000',)\n",
      "('2016-12-01 03:00:00.000000',)\n",
      "('2016-11-28 23:30:00.000000',)\n",
      "('2016-12-08 10:30:00.000000',)\n",
      "('2016-12-12 12:00:00.000000',)\n",
      "('2016-11-30 00:30:00.000000',)\n",
      "('2016-12-08 15:30:00.000000',)\n",
      "('2016-11-26 19:00:00.000000',)\n"
     ]
    }
   ],
   "source": [
    "# Code Cell 9\n",
    "query = 'SELECT DateTime FROM LA_wifi_speed_UK ORDER BY RANDOM() LIMIT 10'\n",
    "cur.execute(query)\n",
    "\n",
    "for row in cur:\n",
    "    print(row) "
   ]
  },
  {
   "cell_type": "markdown",
   "metadata": {},
   "source": [
    "#### Step 2: Focus on a portion of the data.\n",
    "\n",
    "What are the names of the 900+ columns? It is possible to automatically retrieve them and store them in a list. It will come in handy for different things later.\n",
    "\n",
    "First of all, we need to execute a query over all the columns. In this case, it is not important the number of rows the query returns, so we will limit it to 1. "
   ]
  },
  {
   "cell_type": "code",
   "execution_count": 169,
   "metadata": {
    "collapsed": true
   },
   "outputs": [
    {
     "data": {
      "text/plain": [
       "<sqlite3.Cursor at 0x1454e0efec0>"
      ]
     },
     "execution_count": 169,
     "metadata": {},
     "output_type": "execute_result"
    }
   ],
   "source": [
    "# Code Cell 10\n",
    "# we need to have a cursor pointing to a table for this operation\n",
    "query = 'SELECT * FROM LA_wifi_speed_UK LIMIT 1'\n",
    "cur.execute(query)"
   ]
  },
  {
   "cell_type": "markdown",
   "metadata": {},
   "source": [
    "The name of the columns of the table are stored in the field `description` of the cursor."
   ]
  },
  {
   "cell_type": "code",
   "execution_count": 170,
   "metadata": {
    "collapsed": true
   },
   "outputs": [
    {
     "data": {
      "text/plain": [
       "(('E07000223_p', None, None, None, None, None, None),\n",
       " ('E07000026_p', None, None, None, None, None, None),\n",
       " ('E07000032_p', None, None, None, None, None, None),\n",
       " ('E07000224_p', None, None, None, None, None, None),\n",
       " ('E07000170_p', None, None, None, None, None, None),\n",
       " ('E07000105_p', None, None, None, None, None, None),\n",
       " ('E07000004_p', None, None, None, None, None, None),\n",
       " ('E07000200_p', None, None, None, None, None, None),\n",
       " ('E09000002_p', None, None, None, None, None, None),\n",
       " ('E09000003_p', None, None, None, None, None, None))"
      ]
     },
     "execution_count": 170,
     "metadata": {},
     "output_type": "execute_result"
    }
   ],
   "source": [
    "# Code Cell 11\n",
    "#visualizing the first 10 rows of the field description\n",
    "cur.description[:10]"
   ]
  },
  {
   "cell_type": "markdown",
   "metadata": {},
   "source": [
    "We can loop over the members of this field and put the names of the columns in a list (a handy data structure in this case).\n",
    "In Python, it is possible to generate lists as the output of a for loop. This concept is called list comprehension and it is just another name for a longer for loop. Each element of the output list is the operation you would do inside the for loop, while iterating over a certain set.  "
   ]
  },
  {
   "cell_type": "code",
   "execution_count": 171,
   "metadata": {
    "collapsed": true
   },
   "outputs": [],
   "source": [
    "# Code Cell 12\n",
    "# loop over the header and store them in a list\n",
    "columns = [member[0] for member in cur.description]\n",
    "\n",
    "# ignore index column\n",
    "columns = columns[1:]"
   ]
  },
  {
   "cell_type": "markdown",
   "metadata": {},
   "source": [
    "The columns contain the measurements of the three speeds for each geographical area. They are in this form: \n",
    "\n",
    "`<area name>_<suffix>`, \n",
    "\n",
    "Suffix is `p` for ping, `u` for upload and `d` for download. \n",
    "\n",
    "We need to get rid of the suffixes, since we are interested in the names of the area, and at the moment each name is repeated three times. We will use the name of the areas to visualize the various measurements and to generate a new table later in the lab.\n",
    "\n",
    "We can replace the final part of the string with an empty character. To do so, we can use the method `replace()` (see string documentation, https://docs.python.org/2/library/string.html).\n",
    "This method takes as input the part of the string to be replaced and the new piece of string to replace. For instance, to remove the characters `e` and `s` from the string `'chestnut'`, use this code:\n",
    "    \n",
    "    'chestnut'.replace('es', '')\n",
    "\n",
    "###### a) Get area names.\n",
    "Use list comprehension to loop over the list containing the names of the columns of the table and remove the suffixes \"_p\", \"_d\", and \"_u\"."
   ]
  },
  {
   "cell_type": "code",
   "execution_count": 172,
   "metadata": {
    "collapsed": true
   },
   "outputs": [],
   "source": [
    "# Code Cell 13\n",
    "columns = [c.replace('_p', '')for c in columns]\n",
    "columns = [c.replace('_d', '')for c in columns]\n",
    "columns = [c.replace('_u', '')for c in columns]\n",
    "\n",
    "\n",
    "    \n",
    "# # this operation is to remove duplicates\n",
    "columns = list(set(columns))"
   ]
  },
  {
   "cell_type": "code",
   "execution_count": 173,
   "metadata": {
    "collapsed": true
   },
   "outputs": [
    {
     "data": {
      "text/plain": [
       "['E07000062',\n",
       " 'E08000022',\n",
       " 'E06000044',\n",
       " 'E07000125',\n",
       " 'E09000017',\n",
       " 'E07000008',\n",
       " 'E06000002',\n",
       " 'E06000007',\n",
       " 'E09000022',\n",
       " 'E09000007']"
      ]
     },
     "execution_count": 173,
     "metadata": {},
     "output_type": "execute_result"
    }
   ],
   "source": [
    "# Code Cell 14\n",
    "# visualize the first 10 areas\n",
    "columns[:10]"
   ]
  },
  {
   "cell_type": "markdown",
   "metadata": {},
   "source": [
    "The best way to understand the data in the database is to visualize a part of it. In particular, we want to select the three statistics for an area. First of all, let's pick the first area we have in the dataset:"
   ]
  },
  {
   "cell_type": "code",
   "execution_count": 174,
   "metadata": {
    "collapsed": true
   },
   "outputs": [
    {
     "name": "stdout",
     "output_type": "stream",
     "text": [
      "E07000062\n"
     ]
    }
   ],
   "source": [
    "# Code Cell 15\n",
    "area = columns[0]\n",
    "print(area) "
   ]
  },
  {
   "cell_type": "markdown",
   "metadata": {},
   "source": [
    "Now we want to visualize the data relative to the area `E07000101`. We need to select the columns containing the three measurements for this area. To do so, we need to manipulate strings again. \n",
    "\n",
    "One way to format a string is:\n",
    "\n",
    "    'We are considering {} area and {} statistics'.format(1, 3)\n",
    "    \n",
    "    We are considering 1 area and 3 statistics\n",
    "\n",
    "We need to add the suffixes back in to get the correct column names. The first thing to do is to build a dictionary that associates the complete name of the measurement to the suffix. This is also going to be helpful to write a meaningful legend in the plot."
   ]
  },
  {
   "cell_type": "code",
   "execution_count": 175,
   "metadata": {
    "collapsed": true
   },
   "outputs": [
    {
     "name": "stdout",
     "output_type": "stream",
     "text": [
      "dict_keys(['_p', '_d', '_u'])\n",
      "dict_values(['ping', 'download', 'upload'])\n"
     ]
    }
   ],
   "source": [
    "# Code Cell 16\n",
    "suffix = {'_p':'ping', '_d':'download', '_u':'upload'}\n",
    "# we have the suffixes as the keys of the dictionary\n",
    "print(suffix.keys())\n",
    "\n",
    "# we have the complete names as the values of the dictionary\n",
    "print(suffix.values())"
   ]
  },
  {
   "cell_type": "markdown",
   "metadata": {},
   "source": [
    "Now the process is to loop over the keys of the dictionary, write and execute the query to select the measurement relative to our area and, plot them using this code:\n",
    "\n",
    "    plt.plot(cur.fetchall(), label=suffix[s])\n",
    "    \n",
    "The method `fetchall()` retrieves all the rows of the query result. The field `label` will be used to produce the legend of the plot. We can also add a title to the plot, using the method `title()`.\n",
    "\n",
    "###### b) Write the query to select the relevant columns."
   ]
  },
  {
   "cell_type": "code",
   "execution_count": 176,
   "metadata": {
    "collapsed": true
   },
   "outputs": [
    {
     "data": {
      "text/plain": [
       "Text(0.5, 1.0, 'E07000062')"
      ]
     },
     "execution_count": 176,
     "metadata": {},
     "output_type": "execute_result"
    },
    {
     "data": {
      "image/png": "[encoded data removed]",
      "text/plain": [
       "<Figure size 1000x800 with 1 Axes>"
      ]
     },
     "metadata": {},
     "output_type": "display_data"
    }
   ],
   "source": [
    "# Code Cell 17\n",
    "area=columns[0]\n",
    "plt.figure(figsize=(10,8))\n",
    "for s in suffix.keys():\n",
    "    query = 'SELECT \"{}{}\" FROM LA_wifi_speed_UK GROUP BY Datetime'.format(area, s)\n",
    "    cur.execute(query)\n",
    "    plt.plot(cur.fetchall(), label=suffix[s])\n",
    "plt.legend()\n",
    "plt.title(area)  "
   ]
  },
  {
   "cell_type": "markdown",
   "metadata": {},
   "source": [
    "## Part 3: Manipulate the data with Pandas\n",
    "\n",
    "The goal now is to calculate the average wifi speed for all the areas in the dataset. Pandas can help in storing and visualizing the data easily. \n",
    "\n",
    "#### Step 1: Convert all measurements to averages.\n",
    "For each Local Authority. we want to know what the average internet speed for ping, upload, and download was in the period of time over which our data was collected. Pandas dataframes are handy for this kind of operations.\n",
    "\n",
    "###### a) Create an empty dataframe with specific columns.\n",
    "\n",
    "     ['Area', 'Average_p', 'Average_d', 'Average_u']\n",
    ", \n",
    "\n",
    "Note: the order of the new specific columns is aligned with the order of keys in the output of `suffix.keys()`, that is `['_p', '_d', '_u']`."
   ]
  },
  {
   "cell_type": "code",
   "execution_count": 177,
   "metadata": {
    "collapsed": true
   },
   "outputs": [],
   "source": [
    "# Code Cell 18\n",
    "new_columns = ['Area','Average_p', 'Average_d','Average_u']\n",
    "df = pd.DataFrame(columns = new_columns)\n",
    "\n"
   ]
  },
  {
   "cell_type": "markdown",
   "metadata": {},
   "source": [
    "An interesting metric is the average speed of ping, upload, and download for every area. To compute it, we need to loop over the columns, and for each area, for each statistic, we want to compute the average. We will then insert it in the empty dataframe we have just created. \n",
    "\n",
    "To do so, we will create a temporary list and populate it with the three metrics for each area. This is going to be the row we are going to insert in the dataframe. \n",
    "\n",
    "To refresh the commands:\n",
    "\n",
    "* Loop over the list containing the name of the areas.\n",
    "* Loop over the three suffixes (keys of dictionary `suffix`).\n",
    "* Write the query to select the average of the metric for an area, using string formatters.\n",
    "* Execute the query and fetch the result (method `fetchone()`).\n",
    "* Append the average to the temporary list (method `append()`).\n",
    "* At the end of the internal loop, insert the temporary list in the dataframe (method `append()`, parameter `ignore_index=True`).\n",
    "\n",
    "###### b) Compute the averages.\n",
    "Write the SQL query that computes the average of a column and store it in a temporary list. The list will be the new row appended to the dataframe. This will take about 1 minute on the RaPi."
   ]
  },
  {
   "cell_type": "code",
   "execution_count": 178,
   "metadata": {
    "collapsed": true
   },
   "outputs": [
    {
     "name": "stderr",
     "output_type": "stream",
     "text": [
      "C:\\Users\\Писюн\\AppData\\Local\\Temp\\ipykernel_14084\\2510033502.py:15: FutureWarning: The behavior of DataFrame concatenation with empty or all-NA entries is deprecated. In a future version, this will no longer exclude empty or all-NA columns when determining the result dtypes. To retain the old behavior, exclude the relevant entries before the concat operation.\n",
      "  df = pd.concat([df, new_row], ignore_index=True)\n"
     ]
    },
    {
     "data": {
      "text/html": [
       "<div>\n",
       "<style scoped>\n",
       "    .dataframe tbody tr th:only-of-type {\n",
       "        vertical-align: middle;\n",
       "    }\n",
       "\n",
       "    .dataframe tbody tr th {\n",
       "        vertical-align: top;\n",
       "    }\n",
       "\n",
       "    .dataframe thead th {\n",
       "        text-align: right;\n",
       "    }\n",
       "</style>\n",
       "<table border=\"1\" class=\"dataframe\">\n",
       "  <thead>\n",
       "    <tr style=\"text-align: right;\">\n",
       "      <th></th>\n",
       "      <th>Area</th>\n",
       "      <th>Average_p</th>\n",
       "      <th>Average_d</th>\n",
       "      <th>Average_u</th>\n",
       "    </tr>\n",
       "  </thead>\n",
       "  <tbody>\n",
       "    <tr>\n",
       "      <th>0</th>\n",
       "      <td>E07000062</td>\n",
       "      <td>51.817549</td>\n",
       "      <td>20.912328</td>\n",
       "      <td>8.325171</td>\n",
       "    </tr>\n",
       "    <tr>\n",
       "      <th>1</th>\n",
       "      <td>E08000022</td>\n",
       "      <td>53.106180</td>\n",
       "      <td>21.811590</td>\n",
       "      <td>8.743520</td>\n",
       "    </tr>\n",
       "    <tr>\n",
       "      <th>2</th>\n",
       "      <td>E06000044</td>\n",
       "      <td>53.770885</td>\n",
       "      <td>21.984499</td>\n",
       "      <td>8.750949</td>\n",
       "    </tr>\n",
       "    <tr>\n",
       "      <th>3</th>\n",
       "      <td>E07000125</td>\n",
       "      <td>52.080847</td>\n",
       "      <td>20.440484</td>\n",
       "      <td>8.243290</td>\n",
       "    </tr>\n",
       "    <tr>\n",
       "      <th>4</th>\n",
       "      <td>E09000017</td>\n",
       "      <td>55.559716</td>\n",
       "      <td>22.465377</td>\n",
       "      <td>9.004515</td>\n",
       "    </tr>\n",
       "  </tbody>\n",
       "</table>\n",
       "</div>"
      ],
      "text/plain": [
       "        Area  Average_p  Average_d  Average_u\n",
       "0  E07000062  51.817549  20.912328   8.325171\n",
       "1  E08000022  53.106180  21.811590   8.743520\n",
       "2  E06000044  53.770885  21.984499   8.750949\n",
       "3  E07000125  52.080847  20.440484   8.243290\n",
       "4  E09000017  55.559716  22.465377   9.004515"
      ]
     },
     "execution_count": 178,
     "metadata": {},
     "output_type": "execute_result"
    }
   ],
   "source": [
    "\n",
    "df = pd.DataFrame(columns=new_columns)\n",
    "\n",
    "# Основной цикл\n",
    "for i in range(len(columns)-1):\n",
    "    tmp_list = []  # Создаем временный список\\\n",
    "    tmp_list.append(columns[i])  # Добавляем название района\n",
    "    for s in suffix.keys():\n",
    "        query = 'SELECT AVG(\"{}{}\") FROM LA_wifi_speed_UK'.format(columns[i], s)\n",
    "        cur.execute(query)\n",
    "        mean = cur.fetchone()\n",
    "        tmp_list.append(mean[0])\n",
    "\n",
    "    # Создаем DataFrame из одной строки и объединяем с основным df\n",
    "    new_row = pd.DataFrame([tmp_list], columns=new_columns)\n",
    "    df = pd.concat([df, new_row], ignore_index=True)\n",
    "\n",
    "# Визуализируем первые строки\n",
    "df.head()\n"
   ]
  },
  {
   "cell_type": "markdown",
   "metadata": {},
   "source": [
    "It is possible to visualize the averages for each area using `plot()`. This will show whether the average speed is the same throughout the different areas or not."
   ]
  },
  {
   "cell_type": "code",
   "execution_count": 179,
   "metadata": {
    "collapsed": true
   },
   "outputs": [
    {
     "data": {
      "text/plain": [
       "<matplotlib.legend.Legend at 0x14550d90cd0>"
      ]
     },
     "execution_count": 179,
     "metadata": {},
     "output_type": "execute_result"
    },
    {
     "data": {
      "image/png": "[encoded data removed]",
      "text/plain": [
       "<Figure size 2000x1000 with 1 Axes>"
      ]
     },
     "metadata": {},
     "output_type": "display_data"
    }
   ],
   "source": [
    "# Code Cell 20\n",
    "plt.figure(figsize=(20,10))\n",
    "plt.plot(df.index, df[['Average_d','Average_u','Average_p']], 'o')\n",
    "plt.legend(['Average Download', 'Average Upload', 'Average ping'])"
   ]
  },
  {
   "cell_type": "markdown",
   "metadata": {},
   "source": [
    "Now the average speeds are stored in a Pandas dataframe. It might be useful to save them to a table in our database, and Pandas offers a method (`to_sql()`) to do so. \n",
    "We will first check whether the table already exists (this might create problems). If it exists, we want to drop it, and then create it. Otherwise we will directly create it. \n",
    "\n",
    "The construct `try... except` will capture the exception raised in case the table does not exist, and proceed to the creation of the table (for help, see Section 8.3 of https://docs.python.org/2.7/tutorial/errors.html). \n",
    "\n",
    "###### c) Save the work.\n",
    "Save the new dataframe to a table in the InternetSpeed database. "
   ]
  },
  {
   "cell_type": "code",
   "execution_count": 180,
   "metadata": {
    "collapsed": true
   },
   "outputs": [
    {
     "data": {
      "text/plain": [
       "326"
      ]
     },
     "execution_count": 180,
     "metadata": {},
     "output_type": "execute_result"
    }
   ],
   "source": [
    "# Code Cell 21\n",
    "# Make sure to drop the table first if it already exists\n",
    "try:\n",
    "    cur.execute('DROP TABLE average_speed')\n",
    "except:\n",
    "    pass\n",
    "\n",
    "# what is the name of the table you want to save? To what connection?\n",
    "# Save the dataframe table into a SQL table\n",
    "df.to_sql('average_speed', conn)\n"
   ]
  },
  {
   "cell_type": "code",
   "execution_count": 181,
   "metadata": {
    "collapsed": true
   },
   "outputs": [
    {
     "name": "stdout",
     "output_type": "stream",
     "text": [
      "(0, 'E07000062', 51.8175490874913, 20.912328333264966, 8.32517100258101)\n",
      "(1, 'E08000022', 53.1061800824851, 21.81158960405845, 8.74351962467307)\n"
     ]
    }
   ],
   "source": [
    "# Code Cell 22\n",
    "# just checking everything worked fine: select everything from the table we just created\n",
    "# and then print the first two rows of the result\n",
    "\n",
    "query_2 = 'SELECT * FROM average_speed'\n",
    "cur.execute(query_2)\n",
    "\n",
    "# print the first fetched record\n",
    "print(cur.fetchone())\n",
    "# print the next fetched record\n",
    "print(cur.fetchone())"
   ]
  },
  {
   "cell_type": "markdown",
   "metadata": {},
   "source": [
    "## Part 4: Join Tables\n",
    "\n",
    "To understand why and how the average Internet speed changes around the areas, we need more information about them. In particular, we are interested in how populated they are, to see if a crowded area has better or worse Internet service. \n",
    "\n",
    "#### Step 1: Get relevant information.\n",
    "This information can be found in this file: \n",
    "\n",
    "    ./Data/LA_population.csv\n",
    "    \n",
    "Here, LA stands for Local Authority, rather than Los Angeles. \n",
    "We want to join the information contained in this file with the average speed computed earlier.\n",
    "First, create a new table and store this data in the InternetSpeed database.\n",
    "\n",
    "###### a) Create the population table.\n",
    "Using csvsql, import the file LA_population.csv into the InternetSpeed database. Repeat the steps done to create the other tables in the database."
   ]
  },
  {
   "cell_type": "code",
   "execution_count": 182,
   "metadata": {
    "collapsed": true
   },
   "outputs": [],
   "source": [
    "# Code Cell 23\n",
    "#first close the database file, otherwise the external csvsql command cannot use\n",
    "conn.close()"
   ]
  },
  {
   "cell_type": "code",
   "execution_count": 183,
   "metadata": {
    "collapsed": true
   },
   "outputs": [
    {
     "name": "stderr",
     "output_type": "stream",
     "text": [
      "OperationalError: (sqlite3.OperationalError) table \"LA_population\" already exists\n",
      "[SQL: \n",
      "CREATE TABLE \"LA_population\" (\n",
      "\t\"LA\" VARCHAR NOT NULL, \n",
      "\t\"LA_code\" VARCHAR NOT NULL, \n",
      "\t\"Total_Population\" FLOAT NOT NULL\n",
      ")\n",
      "\n",
      "]\n",
      "(Background on this error at: https://sqlalche.me/e/20/e3q8)\n"
     ]
    }
   ],
   "source": [
    "# Code Cell 24\n",
    "# use the external csvsql command to add to the DB file data from the CSV file\n",
    "#!csvsql --db sqlite:///...\n",
    "!csvsql --db sqlite:///InternetSpeed.db --insert ./Data/LA_population.csv\n"
   ]
  },
  {
   "cell_type": "code",
   "execution_count": 184,
   "metadata": {
    "collapsed": true
   },
   "outputs": [],
   "source": [
    "# Code Cell 25\n",
    "#reopen the DB file\n",
    "#conn = sqlite3.connect(...)\n",
    "\n",
    "conn = sqlite3.connect('InternetSpeed.db')\n",
    "cur = conn.cursor()"
   ]
  },
  {
   "cell_type": "markdown",
   "metadata": {},
   "source": [
    "###### b) Test that everything worked.\n",
    "To test that everything worked and to have an idea of what is inside this new table, select the first 10 rows and print them."
   ]
  },
  {
   "cell_type": "code",
   "execution_count": 185,
   "metadata": {
    "collapsed": true
   },
   "outputs": [
    {
     "name": "stdout",
     "output_type": "stream",
     "text": [
      "('Aberdeen City', 'S12000033', 222793)\n",
      "('Aberdeenshire', 'S12000034', 252973)\n",
      "('Adur', 'E07000223', 61182)\n",
      "('Allerdale', 'E07000026', 96422)\n",
      "('Amber Valley', 'E07000032', 122309)\n",
      "('Angus', 'S12000041', 115978)\n",
      "('Antrim and Newtownabbey', 'N09000001', 138567)\n",
      "('Ards and North Down', 'N09000011', 156672)\n",
      "('Argyll and Bute', 'S12000035', 88166)\n",
      "('Armagh City, Banbridge and Craigavon', 'N09000002', 199693)\n"
     ]
    }
   ],
   "source": [
    "# Code Cell 26\n",
    "query = 'SELECT * FROM LA_population LIMIT 10'\n",
    "\n",
    "\n",
    "cur.execute(query)\n",
    "\n",
    "\n",
    "\n",
    "for row in cur:\n",
    "    print(row)\n"
   ]
  },
  {
   "cell_type": "markdown",
   "metadata": {},
   "source": [
    "We can join the two tables in order to have all the information needed. The idea is that the two tables have a field in common, the area name. This is the key on which we want to join. It means that we want a new table that has a row for each area name that contains both the average speed information and the geographical information. The way SQL does this is comparing row by row, and merging together the rows with the same value for the key (i.e., the same area name).\n",
    "\n",
    "###### c) Execute the JOIN query and print the first 10 rows of the result. "
   ]
  },
  {
   "cell_type": "code",
   "execution_count": 186,
   "metadata": {
    "collapsed": true
   },
   "outputs": [
    {
     "name": "stdout",
     "output_type": "stream",
     "text": [
      "(0, 'E07000062', 51.8175490874913, 20.912328333264966, 8.32517100258101, 'Hastings', 'E07000062', 90254)\n",
      "(1, 'E08000022', 53.1061800824851, 21.81158960405845, 8.74351962467307, 'North Tyneside', 'E08000022', 200801)\n",
      "(2, 'E06000044', 53.770884595419794, 21.984499003450413, 8.750949333189459, 'Portsmouth', 'E06000044', 205056)\n",
      "(3, 'E07000125', 52.0808472838531, 20.44048393170491, 8.24329031457051, 'Rossendale', 'E07000125', 67982)\n",
      "(4, 'E09000017', 55.5597161874816, 22.465377123506798, 9.00451514796636, 'Hillingdon', 'E09000017', 273936)\n",
      "(5, 'E07000008', 52.4344416128401, 21.317241011471335, 8.476412907722882, 'Cambridge', 'E07000008', 123867)\n",
      "(6, 'E06000002', 52.9558023070042, 21.137764293352145, 8.50671227816364, 'Middlesbrough', 'E06000002', 138412)\n",
      "(7, 'E06000007', 53.3657089901816, 22.141549089258685, 8.71565819697993, 'Warrington', 'E06000007', 202228)\n",
      "(8, 'E09000022', 55.825056256786496, 22.902980370244023, 9.14742476204136, 'Lambeth', 'E09000022', 303086)\n",
      "(9, 'E09000007', 53.4559478389878, 22.14513655290408, 8.81399266135949, 'Camden', 'E09000007', 220338)\n",
      "(10, 'E07000145', 52.112795346793696, 21.174214677545063, 8.38644513164324, 'Great Yarmouth', 'E07000145', 97277)\n"
     ]
    }
   ],
   "source": [
    "# Code Cell 27\n",
    "query = 'SELECT * FROM average_speed JOIN LA_population ON LA_population.\"LA_code\"=average_speed.Area'\n",
    "\n",
    "cur.execute(query)\n",
    "k = 0\n",
    "for row in cur:\n",
    "    if k>10:\n",
    "        break\n",
    "    print(row)\n",
    "    \n",
    "\n",
    "    \n",
    "    k+=1"
   ]
  },
  {
   "cell_type": "markdown",
   "metadata": {
    "collapsed": true
   },
   "source": [
    "<font size='0.5'>&copy; 2017 Cisco and/or its affiliates. All rights reserved. This document is Cisco Public.<font>"
   ]
  },
  {
   "cell_type": "markdown",
   "metadata": {},
   "source": [
    "Что такое csvsql, как она работает? Генерирует SQL запросы для создания баз данных. "
   ]
  },
  {
   "cell_type": "markdown",
   "metadata": {},
   "source": [
    "Можно ли объединить таблицы в базе данных, как это сделать? Объединение осуществляется встроенной функцией SQL - JOIN"
   ]
  },
  {
   "cell_type": "markdown",
   "metadata": {},
   "source": [
    "Какой метод Pandas позволяет добавлять информацию в базу данных? Метод append от типа pd.DataFrame"
   ]
  },
  {
   "cell_type": "markdown",
   "metadata": {},
   "source": [
    "Что делает метод fetchall ()? Возвращает список всех строк полученных при запросе к БД"
   ]
  },
  {
   "cell_type": "markdown",
   "metadata": {},
   "source": [
    "Почему для обработки данных используется библиотека Pandas, можно ли выполнить такую же обработку другим способом? Pandas предоставляет удобное и готовое API для обработки данных. Без этой библиотеки пришлось бы преобразовывать строки из базы данных в структуры Python, чтобы затем передавать их в matplotlib для визуализации."
   ]
  }
 ],
 "metadata": {
  "anaconda-cloud": {},
  "kernelspec": {
   "display_name": "Python 3",
   "language": "python",
   "name": "python3"
  },
  "language_info": {
   "codemirror_mode": {
    "name": "ipython",
    "version": 3
   },
   "file_extension": ".py",
   "mimetype": "text/x-python",
   "name": "python",
   "nbconvert_exporter": "python",
   "pygments_lexer": "ipython3",
   "version": "3.13.2"
  }
 },
 "nbformat": 4,
 "nbformat_minor": 1
}
