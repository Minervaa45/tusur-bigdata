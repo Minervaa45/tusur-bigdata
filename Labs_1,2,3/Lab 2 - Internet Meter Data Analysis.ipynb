{
 "cells": [
  {
   "cell_type": "markdown",
   "metadata": {},
   "source": [
    "![Title](Images/cisco.png)"
   ]
  },
  {
   "cell_type": "markdown",
   "metadata": {},
   "source": [
    "# Lab - Internet Meter Data Analysis "
   ]
  },
  {
   "cell_type": "markdown",
   "metadata": {},
   "source": [
    "### Objectives\n",
    "<li>**Part 1: Collect and Store Data**</li>\n",
    "<li>**Part 2: Manipulate Data**</li>\n",
    "### Scenario/Background\n",
    "In this lab, you will acquire Internet speed statistics and store the live data in a comma separated values (csv) file. You will also load the stored data from the csv file to a Python data structure, the Pandas `DataFrame`, and use its functionalities to explore the data and manipulate it so that it is easily readable.\n",
    "### Required Resources\n",
    "* 1 PC with Internet access\n",
    "* Raspberry Pi version 2 or higher\n",
    "* Python libraries: datetime, csv, subprocess, pandas, numpy\n",
    "* Datafiles: rpi_data_long.csv"
   ]
  },
  {
   "cell_type": "markdown",
   "metadata": {},
   "source": [
    "## Part 1: Collect and Store Data\n",
    "<p>The goal of this first part of the lab is to gather internet speed measurements through the Raspberry Pi. Three kinds of measurements will be collected:\n",
    "1. Ping speed\n",
    "2. Download speed\n",
    "3. Upload speed"
   ]
  },
  {
   "cell_type": "markdown",
   "metadata": {},
   "source": [
    "#### Step 1: Install Speedtest and Import Python Libraries.\n",
    "In this step, you will install Speedtest and import Python libraries.\n",
    "<p>Speedtest-cli is a Python script that measures the upload and download speed of your Internet connection. For more information about speedtest, go to https://github.com/sivel/speedtest-cli."
   ]
  },
  {
   "cell_type": "markdown",
   "metadata": {},
   "source": [
    "a) Install `speedtest-cli`."
   ]
  },
  {
   "cell_type": "code",
   "execution_count": 7,
   "metadata": {
    "collapsed": true
   },
   "outputs": [
    {
     "name": "stdout",
     "output_type": "stream",
     "text": [
      "Requirement already satisfied: speedtest-cli in c:\\users\\писюн\\appdata\\local\\programs\\python\\python313\\lib\\site-packages (2.1.3)\n"
     ]
    },
    {
     "name": "stderr",
     "output_type": "stream",
     "text": [
      "\n",
      "[notice] A new release of pip is available: 24.3.1 -> 25.0.1\n",
      "[notice] To update, run: python.exe -m pip install --upgrade pip\n"
     ]
    }
   ],
   "source": [
    "# Code cell 1\n",
    "!pip install speedtest-cli"
   ]
  },
  {
   "cell_type": "markdown",
   "metadata": {},
   "source": [
    "This cli allows the Jupyter notebook to connect to the website and store the data."
   ]
  },
  {
   "cell_type": "markdown",
   "metadata": {},
   "source": [
    "b) Import the necessary Python libraries."
   ]
  },
  {
   "cell_type": "code",
   "execution_count": 3,
   "metadata": {
    "collapsed": true
   },
   "outputs": [],
   "source": [
    "# Code cell 2\n",
    "# Python library to manage date and time data\n",
    "import datetime\n",
    "# Python library to read and write csv files\n",
    "import csv\n",
    "# Python library to execute bash commands from the notebook.\n",
    "# If you want to know more about this, check this resource: \n",
    "# http://www.pythonforbeginners.com/os/subprocess-for-system-administrators\n",
    "import subprocess"
   ]
  },
  {
   "cell_type": "markdown",
   "metadata": {},
   "source": [
    "#### Step 2: Generate timestamps using the `datetime` package.\n",
    "In this lab, measurements of Internet speed statistics will be generated. A crucial step in data acquisition for the majority of data analytics applications, is to associate a timestamp to measurements. "
   ]
  },
  {
   "cell_type": "markdown",
   "metadata": {},
   "source": [
    "a) To generate a timestamp, use the `datetime.now` function of the `datetime` package: "
   ]
  },
  {
   "cell_type": "code",
   "execution_count": 4,
   "metadata": {
    "collapsed": true
   },
   "outputs": [
    {
     "name": "stdout",
     "output_type": "stream",
     "text": [
      "2025-02-28 19:16:11.074438 <class 'datetime.datetime'>\n"
     ]
    }
   ],
   "source": [
    "# Code cell 3\n",
    "date_time = datetime.datetime.now()\n",
    "print(date_time, type(date_time))"
   ]
  },
  {
   "cell_type": "markdown",
   "metadata": {},
   "source": [
    "b) An instance of the class `datetime` cannot be directly written to in text form. The function `strftime` parses the date information into a string. The arguments of this function determine the format of the output sting. A description of these parameters can be found in the documentation of the `strftime` function at https://docs.python.org/2/library/time.html. "
   ]
  },
  {
   "cell_type": "code",
   "execution_count": 5,
   "metadata": {
    "collapsed": true
   },
   "outputs": [
    {
     "data": {
      "text/plain": [
       "'Fri, 28 Feb 2025 19:16:11'"
      ]
     },
     "execution_count": 5,
     "metadata": {},
     "output_type": "execute_result"
    }
   ],
   "source": [
    "# Code cell 4\n",
    "date_time.strftime('%a, %d %b %Y %H:%M:%S')"
   ]
  },
  {
   "cell_type": "markdown",
   "metadata": {},
   "source": [
    "After reading the documentation of the `strftime` function, generate a timestamp and parse it into a string with the following format: YYYY-MM-DD HH:MM:SS."
   ]
  },
  {
   "cell_type": "code",
   "execution_count": 6,
   "metadata": {
    "collapsed": true
   },
   "outputs": [
    {
     "data": {
      "text/plain": [
       "'2025-02-28 19:16:11'"
      ]
     },
     "execution_count": 6,
     "metadata": {},
     "output_type": "execute_result"
    }
   ],
   "source": [
    "# Code cell 5\n",
    "date_time.strftime('%Y-%m-%d %H:%M:%S')\n"
   ]
  },
  {
   "cell_type": "markdown",
   "metadata": {},
   "source": [
    "#### Step 3: Run the process and collect the output with Python.\n",
    "\n",
    "The `speedtest-cli` command, if run from a terminal, returns a string with download and upload speeds. To run the command from this notebook, it is necessary to use the Python module `subprocess`, which allows running a process directly from the notebook code cell. "
   ]
  },
  {
   "cell_type": "markdown",
   "metadata": {},
   "source": [
    "a) Run a speed test using the `speedtest-cli` command from Python. The output will be stored in the process_output variable."
   ]
  },
  {
   "cell_type": "code",
   "execution_count": 8,
   "metadata": {
    "collapsed": true
   },
   "outputs": [],
   "source": [
    "# Code cell 6\n",
    "# This string contains the command line to interface with speedtest.net\n",
    "speedtest_cmd = \"speedtest-cli --simple\"\n",
    "# Execute the process\n",
    "process = subprocess.Popen(speedtest_cmd.split(), stdout=subprocess.PIPE)\n",
    "# Collect the command output\n",
    "process_output = process.communicate()[0]"
   ]
  },
  {
   "cell_type": "markdown",
   "metadata": {},
   "source": [
    "b) Print the process output. Notice the type for the `process_output` variable."
   ]
  },
  {
   "cell_type": "code",
   "execution_count": 14,
   "metadata": {
    "collapsed": true
   },
   "outputs": [
    {
     "name": "stdout",
     "output_type": "stream",
     "text": [
      "b'Ping: 61.307 ms\\r\\nDownload: 231.74 Mbit/s\\r\\nUpload: 72.42 Mbit/s\\r\\n' <class 'bytes'>\n"
     ]
    }
   ],
   "source": [
    "# Code cell 7\n",
    "print(process_output, type(process_output))"
   ]
  },
  {
   "cell_type": "markdown",
   "metadata": {},
   "source": [
    "c) The speed test result is split, and a timestamp is appended to the results."
   ]
  },
  {
   "cell_type": "code",
   "execution_count": 9,
   "metadata": {
    "collapsed": true
   },
   "outputs": [
    {
     "name": "stdout",
     "output_type": "stream",
     "text": [
      "[b'Ping:', b'50.049', b'ms', b'Download:', b'93.01', b'Mbit/s', b'Upload:', b'66.54', b'Mbit/s', '2025-02-28 19:17:20'] <class 'list'>\n"
     ]
    }
   ],
   "source": [
    "# Code cell 8\n",
    "# Store the time at which the speedtest was executed\n",
    "date_time = datetime.datetime.now().strftime(\"%Y-%m-%d %H:%M:%S\")\n",
    "process_output = process_output.split()\n",
    "process_output.append(date_time)\n",
    "print(process_output, type(process_output))"
   ]
  },
  {
   "cell_type": "markdown",
   "metadata": {},
   "source": [
    "d) The speedtest() function is created to return the results from the speedtest-cli command."
   ]
  },
  {
   "cell_type": "code",
   "execution_count": 10,
   "metadata": {
    "collapsed": true
   },
   "outputs": [],
   "source": [
    "# Code cell 9\n",
    "# function to excute the speed test\n",
    "def speedtest():\n",
    "    # We need to store the time at which the speedtest was executed\n",
    "    date_time = datetime.datetime.now().strftime(\"%Y-%m-%d %H:%M:%S\")\n",
    "    # This is a string that contains what we would write on the command line \n",
    "    #to interface with speedtest.net\n",
    "    speedtest_cmd = \"speedtest-cli --simple\"\n",
    "    # We now execute the process: \n",
    "    process = subprocess.Popen(speedtest_cmd.split(), stdout=subprocess.PIPE)\n",
    "    process_output = process.communicate()[0]\n",
    "    process_output = process_output.split()\n",
    "    # and we add the date and time \n",
    "    process_output.append(date_time)\n",
    "    return process_output"
   ]
  },
  {
   "cell_type": "markdown",
   "metadata": {},
   "source": [
    "What does the speedtest() function return? What is the code to view results from the speedtest() function?"
   ]
  },
  {
   "cell_type": "markdown",
   "metadata": {},
   "source": []
  },
  {
   "cell_type": "code",
   "execution_count": 11,
   "metadata": {
    "collapsed": true
   },
   "outputs": [
    {
     "data": {
      "text/plain": [
       "[b'Ping:',\n",
       " b'49.855',\n",
       " b'ms',\n",
       " b'Download:',\n",
       " b'223.17',\n",
       " b'Mbit/s',\n",
       " b'Upload:',\n",
       " b'80.42',\n",
       " b'Mbit/s',\n",
       " '2025-02-28 19:17:24']"
      ]
     },
     "execution_count": 11,
     "metadata": {},
     "output_type": "execute_result"
    }
   ],
   "source": [
    "# Code cell 10 \n",
    "# Code to view the results from speedtest() function\n",
    "speedtest()"
   ]
  },
  {
   "cell_type": "markdown",
   "metadata": {},
   "source": [
    "#### Step 4: Store the output of the `speedtest()` function.\n",
    "\n",
    "The comma separated values (csv) is the most common import and export format for spreadsheets and databases. To learn more information about working with csv in Python, navigate to https://docs.python.org/2/library/csv.html."
   ]
  },
  {
   "cell_type": "markdown",
   "metadata": {},
   "source": [
    "a) Create a file named test.txt in the /tmp directory and write \"test_msg\" in the file."
   ]
  },
  {
   "cell_type": "code",
   "execution_count": 12,
   "metadata": {
    "collapsed": true
   },
   "outputs": [],
   "source": [
    "# Code cell 11\n",
    "with open(\"tmp/test.txt\",'w') as f:\n",
    "    f.write('test_msg')"
   ]
  },
  {
   "cell_type": "markdown",
   "metadata": {},
   "source": [
    "b) Use the Linux command `cat` to verify the creation and content of the file."
   ]
  },
  {
   "cell_type": "code",
   "execution_count": 50,
   "metadata": {
    "collapsed": true
   },
   "outputs": [
    {
     "name": "stderr",
     "output_type": "stream",
     "text": [
      "\"cat\" �� ���� ����७��� ��� ���譥�\n",
      "��������, �ᯮ��塞�� �ணࠬ��� ��� ������ 䠩���.\n"
     ]
    }
   ],
   "source": [
    "# Code cell 12\n",
    "!cat tmp/test.txt"
   ]
  },
  {
   "cell_type": "markdown",
   "metadata": {},
   "source": [
    "c) To check that the file was successfully open:"
   ]
  },
  {
   "cell_type": "code",
   "execution_count": 13,
   "metadata": {
    "collapsed": true
   },
   "outputs": [
    {
     "name": "stdout",
     "output_type": "stream",
     "text": [
      "test_msg\n"
     ]
    }
   ],
   "source": [
    "# Code cell 13\n",
    "with open(\"tmp/test.txt\",'r') as f:\n",
    "   str = f.read()\n",
    "print(str)"
   ]
  },
  {
   "cell_type": "markdown",
   "metadata": {},
   "source": [
    "d) Understanding the meaning of the `with` statement, especially in combination with `try` and `except` is not required for the rest of this lab, but a useful resource about this is http://effbot.org/zone/python-with-statement.htm.\n",
    "<p>\n",
    "To write into a `csv` file, it is necessary to create a `csv.writer` object. Check https://docs.python.org/2/library/csv.html and find out which function of the 'csv.writer' object can be used to add a row to a `csv` file."
   ]
  },
  {
   "cell_type": "code",
   "execution_count": 14,
   "metadata": {
    "collapsed": true
   },
   "outputs": [],
   "source": [
    "# Code cell 14\n",
    "# function to save data to csv\n",
    "def save_to_csv(data, filename):\n",
    "    try:\n",
    "        # If the file exists, we want to append a new line to it, with the \n",
    "        #results of the current experiment\n",
    "        with open(filename + '.csv', 'a') as f:\n",
    "            wr = csv.writer(f)\n",
    "            wr.writerow(data)\n",
    "    except:\n",
    "        # If it does not exist, create the file first\n",
    "        with open(filename + '.csv', 'w') as f:\n",
    "            # Hint: This is similar to appending new lines to a file.\n",
    "            # Create a csv writer object\n",
    "            wr = csv.writer(f)\n",
    "            # Save (write) to file\n",
    "            wr.writerow(data)\n",
    "            \n"
   ]
  },
  {
   "cell_type": "markdown",
   "metadata": {},
   "source": [
    "#### Step 5: Check the collected data.\n",
    "Write a function to open a csv file and print its content to screen. You can find an example in the 13.1.5 section of https://docs.python.org/2/library/csv.html"
   ]
  },
  {
   "cell_type": "code",
   "execution_count": 15,
   "metadata": {
    "collapsed": true
   },
   "outputs": [],
   "source": [
    "# Code cell 15\n",
    "def print_from_csv(filename): \n",
    "    with open(filename + '.csv', 'r') as f:\n",
    "            re = csv.reader(f)\n",
    "            for row in re:  \n",
    "                print(row)"
   ]
  },
  {
   "cell_type": "markdown",
   "metadata": {},
   "source": [
    "Now, all the functions needed to collect and store Internet speed data are finished.\n",
    "#### Step 6: Run the Speedtest multiple times and store the data.\n",
    "a) Write a `for` loop that calls the speedtest 5 times, prints the output of the tests, and stores the data in a csv file."
   ]
  },
  {
   "cell_type": "code",
   "execution_count": 16,
   "metadata": {
    "collapsed": true
   },
   "outputs": [
    {
     "name": "stdout",
     "output_type": "stream",
     "text": [
      "Test number 0\n",
      "[b'Ping:', b'49.995', b'ms', b'Download:', b'258.68', b'Mbit/s', b'Upload:', b'73.02', b'Mbit/s', '2025-02-28 19:18:02']\n",
      "Test number 1\n",
      "[b'Ping:', b'50.07', b'ms', b'Download:', b'158.19', b'Mbit/s', b'Upload:', b'71.96', b'Mbit/s', '2025-02-28 19:18:25']\n",
      "Test number 2\n",
      "[b'Ping:', b'47.6', b'ms', b'Download:', b'131.19', b'Mbit/s', b'Upload:', b'69.93', b'Mbit/s', '2025-02-28 19:18:47']\n",
      "Test number 3\n",
      "[b'Ping:', b'47.382', b'ms', b'Download:', b'161.42', b'Mbit/s', b'Upload:', b'75.50', b'Mbit/s', '2025-02-28 19:19:10']\n",
      "Test number 4\n",
      "[b'Ping:', b'47.862', b'ms', b'Download:', b'157.97', b'Mbit/s', b'Upload:', b'75.98', b'Mbit/s', '2025-02-28 19:19:32']\n"
     ]
    }
   ],
   "source": [
    "# Code cell 16\n",
    "for i in range(5):\n",
    "    speedtest_output = speedtest()\n",
    "    print('Test number {}'.format(i))\n",
    "    print(speedtest_output)\n",
    "    save_to_csv(speedtest_output, 'tmp/rpi_data_test')\n",
    "    "
   ]
  },
  {
   "cell_type": "markdown",
   "metadata": {},
   "source": [
    "b) Display the file to verify that the data has been saved correctly."
   ]
  },
  {
   "cell_type": "code",
   "execution_count": 17,
   "metadata": {
    "collapsed": true
   },
   "outputs": [
    {
     "name": "stdout",
     "output_type": "stream",
     "text": [
      "[\"b'Ping:'\", \"b'49.995'\", \"b'ms'\", \"b'Download:'\", \"b'258.68'\", \"b'Mbit/s'\", \"b'Upload:'\", \"b'73.02'\", \"b'Mbit/s'\", '2025-02-28 19:18:02']\n",
      "[]\n",
      "[\"b'Ping:'\", \"b'50.07'\", \"b'ms'\", \"b'Download:'\", \"b'158.19'\", \"b'Mbit/s'\", \"b'Upload:'\", \"b'71.96'\", \"b'Mbit/s'\", '2025-02-28 19:18:25']\n",
      "[]\n",
      "[\"b'Ping:'\", \"b'47.6'\", \"b'ms'\", \"b'Download:'\", \"b'131.19'\", \"b'Mbit/s'\", \"b'Upload:'\", \"b'69.93'\", \"b'Mbit/s'\", '2025-02-28 19:18:47']\n",
      "[]\n",
      "[\"b'Ping:'\", \"b'47.382'\", \"b'ms'\", \"b'Download:'\", \"b'161.42'\", \"b'Mbit/s'\", \"b'Upload:'\", \"b'75.50'\", \"b'Mbit/s'\", '2025-02-28 19:19:10']\n",
      "[]\n",
      "[\"b'Ping:'\", \"b'47.862'\", \"b'ms'\", \"b'Download:'\", \"b'157.97'\", \"b'Mbit/s'\", \"b'Upload:'\", \"b'75.98'\", \"b'Mbit/s'\", '2025-02-28 19:19:32']\n",
      "[]\n"
     ]
    }
   ],
   "source": [
    "# Code cell 17\n",
    "print_from_csv('tmp/rpi_data_test')\n"
   ]
  },
  {
   "cell_type": "markdown",
   "metadata": {},
   "source": [
    "If a bigger dataset is needed, the speedtest can be running in the background for more samples.\n",
    "\n",
    "How would you change the code if you wanted to run the code 100 times?"
   ]
  },
  {
   "cell_type": "markdown",
   "metadata": {
    "collapsed": true
   },
   "source": []
  },
  {
   "cell_type": "code",
   "execution_count": 18,
   "metadata": {},
   "outputs": [
    {
     "name": "stdout",
     "output_type": "stream",
     "text": [
      "Note: you may need to restart the kernel to use updated packages.\n"
     ]
    },
    {
     "name": "stderr",
     "output_type": "stream",
     "text": [
      "ERROR: Could not find a version that satisfies the requirement concurrent (from versions: none)\n",
      "\n",
      "[notice] A new release of pip is available: 24.3.1 -> 25.0.1\n",
      "[notice] To update, run: python.exe -m pip install --upgrade pip\n",
      "ERROR: No matching distribution found for concurrent\n"
     ]
    }
   ],
   "source": [
    "pip install concurrent"
   ]
  },
  {
   "cell_type": "code",
   "execution_count": 19,
   "metadata": {
    "collapsed": true
   },
   "outputs": [
    {
     "name": "stdout",
     "output_type": "stream",
     "text": [
      "Test number: 12\n",
      "[b'Ping:', b'51.16', b'ms', b'Download:', b'17.86', b'Mbit/s', b'Upload:', b'13.95', b'Mbit/s', '2025-02-28 19:22:47']\n",
      "Test number: 16\n",
      "[b'Ping:', b'56.175', b'ms', b'Download:', b'16.62', b'Mbit/s', b'Upload:', b'11.48', b'Mbit/s', '2025-02-28 19:22:47']\n",
      "Test number: 9\n",
      "[b'Ping:', b'52.592', b'ms', b'Download:', b'11.07', b'Mbit/s', b'Upload:', b'16.78', b'Mbit/s', '2025-02-28 19:22:47']\n",
      "Test number: 15\n",
      "[b'Ping:', b'57.073', b'ms', b'Download:', b'16.80', b'Mbit/s', b'Upload:', b'14.30', b'Mbit/s', '2025-02-28 19:22:47']\n",
      "Test number: 17\n",
      "[b'Ping:', b'54.645', b'ms', b'Download:', b'10.86', b'Mbit/s', b'Upload:', b'14.60', b'Mbit/s', '2025-02-28 19:22:47']\n",
      "Test number: 5\n",
      "[b'Ping:', b'50.727', b'ms', b'Download:', b'15.27', b'Mbit/s', b'Upload:', b'11.26', b'Mbit/s', '2025-02-28 19:22:47']\n",
      "Test number: 10\n",
      "[b'Ping:', b'49.768', b'ms', b'Download:', b'13.48', b'Mbit/s', b'Upload:', b'16.27', b'Mbit/s', '2025-02-28 19:22:47']\n",
      "Test number: 4\n",
      "[b'Ping:', b'51.126', b'ms', b'Download:', b'12.99', b'Mbit/s', b'Upload:', b'17.51', b'Mbit/s', '2025-02-28 19:22:47']\n",
      "Test number: 14\n",
      "[b'Ping:', b'55.486', b'ms', b'Download:', b'13.63', b'Mbit/s', b'Upload:', b'8.93', b'Mbit/s', '2025-02-28 19:22:47']\n",
      "Test number: 6\n",
      "[b'Ping:', b'54.838', b'ms', b'Download:', b'12.74', b'Mbit/s', b'Upload:', b'15.61', b'Mbit/s', '2025-02-28 19:22:47']\n",
      "Test number: 19\n",
      "[b'Ping:', b'53.017', b'ms', b'Download:', b'13.39', b'Mbit/s', b'Upload:', b'14.64', b'Mbit/s', '2025-02-28 19:22:47']\n",
      "Test number: 11\n",
      "[b'Ping:', b'52.769', b'ms', b'Download:', b'13.03', b'Mbit/s', b'Upload:', b'14.17', b'Mbit/s', '2025-02-28 19:22:47']\n",
      "Test number: 13\n",
      "[b'Ping:', b'57.392', b'ms', b'Download:', b'11.79', b'Mbit/s', b'Upload:', b'16.33', b'Mbit/s', '2025-02-28 19:22:47']\n",
      "Test number: 8\n",
      "[b'Ping:', b'53.194', b'ms', b'Download:', b'13.79', b'Mbit/s', b'Upload:', b'12.33', b'Mbit/s', '2025-02-28 19:22:47']\n",
      "Test number: 0\n",
      "[b'Ping:', b'57.126', b'ms', b'Download:', b'13.17', b'Mbit/s', b'Upload:', b'13.70', b'Mbit/s', '2025-02-28 19:22:47']\n",
      "Test number: 20\n",
      "[b'Ping:', b'49.72', b'ms', b'Download:', b'11.31', b'Mbit/s', b'Upload:', b'15.37', b'Mbit/s', '2025-02-28 19:22:47']\n",
      "Test number: 23\n",
      "[b'Ping:', b'49.891', b'ms', b'Download:', b'12.08', b'Mbit/s', b'Upload:', b'13.75', b'Mbit/s', '2025-02-28 19:22:47']\n",
      "Test number: 21\n",
      "[b'Ping:', b'50.502', b'ms', b'Download:', b'12.09', b'Mbit/s', b'Upload:', b'13.24', b'Mbit/s', '2025-02-28 19:22:47']\n",
      "Test number: 3\n",
      "[b'Ping:', b'51.821', b'ms', b'Download:', b'13.54', b'Mbit/s', b'Upload:', b'11.99', b'Mbit/s', '2025-02-28 19:22:47']\n",
      "Test number: 1\n",
      "[b'Ping:', b'53.249', b'ms', b'Download:', b'13.71', b'Mbit/s', b'Upload:', b'13.14', b'Mbit/s', '2025-02-28 19:22:47']\n",
      "Test number: 7\n",
      "[b'Ping:', b'49.293', b'ms', b'Download:', b'8.45', b'Mbit/s', b'Upload:', b'9.85', b'Mbit/s', '2025-02-28 19:22:47']\n",
      "Test number: 18\n",
      "[b'Ping:', b'52.418', b'ms', b'Download:', b'15.42', b'Mbit/s', b'Upload:', b'14.51', b'Mbit/s', '2025-02-28 19:22:47']\n",
      "Test number: 2\n",
      "[b'Ping:', b'49.558', b'ms', b'Download:', b'13.11', b'Mbit/s', b'Upload:', b'14.13', b'Mbit/s', '2025-02-28 19:22:47']\n",
      "Test number: 22\n",
      "[b'Ping:', b'50.786', b'ms', b'Download:', b'15.10', b'Mbit/s', b'Upload:', b'13.18', b'Mbit/s', '2025-02-28 19:22:47']\n",
      "Test number: 25\n",
      "[b'Ping:', b'47.425', b'ms', b'Download:', b'21.65', b'Mbit/s', b'Upload:', b'18.26', b'Mbit/s', '2025-02-28 19:23:11']\n",
      "Test number: 26\n",
      "[b'Ping:', b'47.544', b'ms', b'Download:', b'13.32', b'Mbit/s', b'Upload:', b'13.81', b'Mbit/s', '2025-02-28 19:23:11']\n",
      "Test number: 28\n",
      "[b'Ping:', b'47.29', b'ms', b'Download:', b'11.88', b'Mbit/s', b'Upload:', b'15.75', b'Mbit/s', '2025-02-28 19:23:11']\n",
      "Test number: 27\n",
      "[b'Ping:', b'47.151', b'ms', b'Download:', b'12.45', b'Mbit/s', b'Upload:', b'11.90', b'Mbit/s', '2025-02-28 19:23:11']\n",
      "Test number: 29\n",
      "[b'Ping:', b'47.567', b'ms', b'Download:', b'12.01', b'Mbit/s', b'Upload:', b'16.23', b'Mbit/s', '2025-02-28 19:23:11']\n",
      "Test number: 31\n",
      "[b'Ping:', b'50.259', b'ms', b'Download:', b'14.08', b'Mbit/s', b'Upload:', b'16.13', b'Mbit/s', '2025-02-28 19:23:11']\n",
      "Test number: 24\n",
      "[b'Ping:', b'47.525', b'ms', b'Download:', b'12.58', b'Mbit/s', b'Upload:', b'13.43', b'Mbit/s', '2025-02-28 19:23:11']\n",
      "Test number: 30\n",
      "[b'Ping:', b'47.659', b'ms', b'Download:', b'10.75', b'Mbit/s', b'Upload:', b'15.40', b'Mbit/s', '2025-02-28 19:23:11']\n",
      "Test number: 33\n",
      "[b'Ping:', b'47.669', b'ms', b'Download:', b'12.39', b'Mbit/s', b'Upload:', b'15.46', b'Mbit/s', '2025-02-28 19:23:11']\n",
      "Test number: 35\n",
      "[b'Ping:', b'47.484', b'ms', b'Download:', b'19.06', b'Mbit/s', b'Upload:', b'12.74', b'Mbit/s', '2025-02-28 19:23:11']\n",
      "Test number: 42\n",
      "[b'Ping:', b'47.6', b'ms', b'Download:', b'11.52', b'Mbit/s', b'Upload:', b'16.13', b'Mbit/s', '2025-02-28 19:23:11']\n",
      "Test number: 38\n",
      "[b'Ping:', b'47.695', b'ms', b'Download:', b'11.90', b'Mbit/s', b'Upload:', b'13.97', b'Mbit/s', '2025-02-28 19:23:11']\n",
      "Test number: 37\n",
      "[b'Ping:', b'48.29', b'ms', b'Download:', b'18.06', b'Mbit/s', b'Upload:', b'15.50', b'Mbit/s', '2025-02-28 19:23:11']\n",
      "Test number: 43\n",
      "[b'Ping:', b'47.409', b'ms', b'Download:', b'11.25', b'Mbit/s', b'Upload:', b'15.71', b'Mbit/s', '2025-02-28 19:23:11']\n",
      "Test number: 36\n",
      "[b'Ping:', b'49.284', b'ms', b'Download:', b'18.51', b'Mbit/s', b'Upload:', b'13.79', b'Mbit/s', '2025-02-28 19:23:11']\n",
      "Test number: 40\n",
      "[b'Ping:', b'48.109', b'ms', b'Download:', b'11.94', b'Mbit/s', b'Upload:', b'17.61', b'Mbit/s', '2025-02-28 19:23:11']\n",
      "Test number: 41\n",
      "[b'Ping:', b'47.205', b'ms', b'Download:', b'10.65', b'Mbit/s', b'Upload:', b'12.08', b'Mbit/s', '2025-02-28 19:23:11']\n",
      "Test number: 34\n",
      "[b'Ping:', b'47.944', b'ms', b'Download:', b'14.62', b'Mbit/s', b'Upload:', b'15.58', b'Mbit/s', '2025-02-28 19:23:11']\n",
      "Test number: 32\n",
      "[b'Ping:', b'47.597', b'ms', b'Download:', b'12.29', b'Mbit/s', b'Upload:', b'18.47', b'Mbit/s', '2025-02-28 19:23:11']\n",
      "Test number: 45\n",
      "[b'Ping:', b'49.404', b'ms', b'Download:', b'13.65', b'Mbit/s', b'Upload:', b'15.14', b'Mbit/s', '2025-02-28 19:23:11']\n",
      "Test number: 39\n",
      "[b'Ping:', b'48.781', b'ms', b'Download:', b'18.74', b'Mbit/s', b'Upload:', b'14.30', b'Mbit/s', '2025-02-28 19:23:11']\n",
      "Test number: 46\n",
      "[b'Ping:', b'49.937', b'ms', b'Download:', b'17.36', b'Mbit/s', b'Upload:', b'15.18', b'Mbit/s', '2025-02-28 19:23:12']\n",
      "Test number: 44\n",
      "[b'Ping:', b'47.574', b'ms', b'Download:', b'12.39', b'Mbit/s', b'Upload:', b'12.38', b'Mbit/s', '2025-02-28 19:23:11']\n",
      "Test number: 47\n",
      "[b'Ping:', b'48.072', b'ms', b'Download:', b'14.65', b'Mbit/s', b'Upload:', b'5.10', b'Mbit/s', '2025-02-28 19:23:12']\n",
      "Test number: 49\n",
      "[b'Ping:', b'47.959', b'ms', b'Download:', b'13.14', b'Mbit/s', b'Upload:', b'24.31', b'Mbit/s', '2025-02-28 19:23:34']\n",
      "Test number: 50\n",
      "[b'Ping:', b'47.685', b'ms', b'Download:', b'34.25', b'Mbit/s', b'Upload:', b'16.74', b'Mbit/s', '2025-02-28 19:23:34']\n",
      "Test number: 48\n",
      "[b'Ping:', b'48.666', b'ms', b'Download:', b'14.20', b'Mbit/s', b'Upload:', b'15.36', b'Mbit/s', '2025-02-28 19:23:33']\n",
      "Test number: 53\n",
      "[b'Ping:', b'47.563', b'ms', b'Download:', b'21.76', b'Mbit/s', b'Upload:', b'13.71', b'Mbit/s', '2025-02-28 19:23:34']\n",
      "Test number: 52\n",
      "[b'Ping:', b'47.256', b'ms', b'Download:', b'14.88', b'Mbit/s', b'Upload:', b'17.79', b'Mbit/s', '2025-02-28 19:23:34']\n",
      "Test number: 51\n",
      "[b'Ping:', b'49.479', b'ms', b'Download:', b'13.96', b'Mbit/s', b'Upload:', b'12.73', b'Mbit/s', '2025-02-28 19:23:34']\n",
      "Test number: 55\n",
      "[b'Ping:', b'47.796', b'ms', b'Download:', b'17.06', b'Mbit/s', b'Upload:', b'14.18', b'Mbit/s', '2025-02-28 19:23:34']\n",
      "Test number: 54\n",
      "[b'Ping:', b'47.913', b'ms', b'Download:', b'12.32', b'Mbit/s', b'Upload:', b'18.33', b'Mbit/s', '2025-02-28 19:23:34']\n",
      "Test number: 57\n",
      "[b'Ping:', b'47.533', b'ms', b'Download:', b'15.19', b'Mbit/s', b'Upload:', b'16.69', b'Mbit/s', '2025-02-28 19:23:34']\n",
      "Test number: 58\n",
      "[b'Ping:', b'47.737', b'ms', b'Download:', b'20.20', b'Mbit/s', b'Upload:', b'16.81', b'Mbit/s', '2025-02-28 19:23:34']\n",
      "Test number: 56\n",
      "[b'Ping:', b'48.121', b'ms', b'Download:', b'12.53', b'Mbit/s', b'Upload:', b'12.51', b'Mbit/s', '2025-02-28 19:23:34']\n",
      "Test number: 59\n",
      "[b'Ping:', b'48.037', b'ms', b'Download:', b'12.22', b'Mbit/s', b'Upload:', b'16.80', b'Mbit/s', '2025-02-28 19:23:34']\n",
      "Test number: 62\n",
      "[b'Ping:', b'47.658', b'ms', b'Download:', b'12.03', b'Mbit/s', b'Upload:', b'19.88', b'Mbit/s', '2025-02-28 19:23:34']\n",
      "Test number: 60\n",
      "[b'Ping:', b'48.866', b'ms', b'Download:', b'12.75', b'Mbit/s', b'Upload:', b'16.71', b'Mbit/s', '2025-02-28 19:23:34']\n",
      "Test number: 61\n",
      "[b'Ping:', b'48.141', b'ms', b'Download:', b'12.82', b'Mbit/s', b'Upload:', b'14.98', b'Mbit/s', '2025-02-28 19:23:34']\n",
      "Test number: 64\n",
      "[b'Ping:', b'47.598', b'ms', b'Download:', b'11.01', b'Mbit/s', b'Upload:', b'17.25', b'Mbit/s', '2025-02-28 19:23:35']\n",
      "Test number: 66\n",
      "[b'Ping:', b'47.557', b'ms', b'Download:', b'16.59', b'Mbit/s', b'Upload:', b'17.59', b'Mbit/s', '2025-02-28 19:23:35']\n",
      "Test number: 67\n",
      "[b'Ping:', b'48.517', b'ms', b'Download:', b'10.65', b'Mbit/s', b'Upload:', b'14.24', b'Mbit/s', '2025-02-28 19:23:35']\n",
      "Test number: 65\n",
      "[b'Ping:', b'48.444', b'ms', b'Download:', b'11.54', b'Mbit/s', b'Upload:', b'12.88', b'Mbit/s', '2025-02-28 19:23:35']\n",
      "Test number: 69\n",
      "[b'Ping:', b'49.175', b'ms', b'Download:', b'12.56', b'Mbit/s', b'Upload:', b'7.95', b'Mbit/s', '2025-02-28 19:23:35']\n",
      "Test number: 68\n",
      "[b'Ping:', b'47.813', b'ms', b'Download:', b'12.78', b'Mbit/s', b'Upload:', b'13.42', b'Mbit/s', '2025-02-28 19:23:35']\n",
      "Test number: 63\n",
      "[b'Ping:', b'47.743', b'ms', b'Download:', b'12.03', b'Mbit/s', b'Upload:', b'10.13', b'Mbit/s', '2025-02-28 19:23:34']\n",
      "Test number: 70\n",
      "[b'Ping:', b'47.74', b'ms', b'Download:', b'22.10', b'Mbit/s', b'Upload:', b'25.00', b'Mbit/s', '2025-02-28 19:23:37']\n",
      "Test number: 71\n",
      "[b'Ping:', b'47.107', b'ms', b'Download:', b'24.41', b'Mbit/s', b'Upload:', b'20.10', b'Mbit/s', '2025-02-28 19:23:37']\n",
      "Test number: 72\n",
      "[b'Ping:', b'47.19', b'ms', b'Download:', b'12.30', b'Mbit/s', b'Upload:', b'20.42', b'Mbit/s', '2025-02-28 19:23:56']\n",
      "Test number: 73\n",
      "[b'Ping:', b'47.87', b'ms', b'Download:', b'43.63', b'Mbit/s', b'Upload:', b'20.85', b'Mbit/s', '2025-02-28 19:23:56']\n",
      "Test number: 76\n",
      "[b'Ping:', b'47.353', b'ms', b'Download:', b'12.63', b'Mbit/s', b'Upload:', b'16.43', b'Mbit/s', '2025-02-28 19:23:57']\n",
      "Test number: 74\n",
      "[b'Ping:', b'47.452', b'ms', b'Download:', b'12.96', b'Mbit/s', b'Upload:', b'12.86', b'Mbit/s', '2025-02-28 19:23:57']\n",
      "Test number: 79\n",
      "[b'Ping:', b'47.799', b'ms', b'Download:', b'16.76', b'Mbit/s', b'Upload:', b'17.12', b'Mbit/s', '2025-02-28 19:23:57']\n",
      "Test number: 78\n",
      "[b'Ping:', b'48.102', b'ms', b'Download:', b'12.44', b'Mbit/s', b'Upload:', b'19.21', b'Mbit/s', '2025-02-28 19:23:57']\n",
      "Test number: 75\n",
      "[b'Ping:', b'47.413', b'ms', b'Download:', b'10.32', b'Mbit/s', b'Upload:', b'18.42', b'Mbit/s', '2025-02-28 19:23:57']\n",
      "Test number: 81\n",
      "[b'Ping:', b'47.511', b'ms', b'Download:', b'11.20', b'Mbit/s', b'Upload:', b'18.76', b'Mbit/s', '2025-02-28 19:23:57']\n",
      "Test number: 85\n",
      "[b'Ping:', b'47.786', b'ms', b'Download:', b'16.01', b'Mbit/s', b'Upload:', b'17.38', b'Mbit/s', '2025-02-28 19:23:58']\n",
      "Test number: 80\n",
      "[b'Ping:', b'47.552', b'ms', b'Download:', b'12.53', b'Mbit/s', b'Upload:', b'14.35', b'Mbit/s', '2025-02-28 19:23:57']\n",
      "Test number: 82\n",
      "[b'Ping:', b'47.815', b'ms', b'Download:', b'11.61', b'Mbit/s', b'Upload:', b'18.31', b'Mbit/s', '2025-02-28 19:23:57']\n",
      "Test number: 77\n",
      "[b'Ping:', b'47.706', b'ms', b'Download:', b'21.48', b'Mbit/s', b'Upload:', b'13.83', b'Mbit/s', '2025-02-28 19:23:57']\n",
      "Test number: 83\n",
      "[b'Ping:', b'47.648', b'ms', b'Download:', b'15.62', b'Mbit/s', b'Upload:', b'16.26', b'Mbit/s', '2025-02-28 19:23:57']\n",
      "Test number: 84\n",
      "[b'Ping:', b'48.127', b'ms', b'Download:', b'12.52', b'Mbit/s', b'Upload:', b'8.08', b'Mbit/s', '2025-02-28 19:23:57']\n",
      "Test number: 86\n",
      "[b'Ping:', b'48.099', b'ms', b'Download:', b'11.14', b'Mbit/s', b'Upload:', b'16.49', b'Mbit/s', '2025-02-28 19:23:58']\n",
      "Test number: 91\n",
      "[b'Ping:', b'47.35', b'ms', b'Download:', b'12.52', b'Mbit/s', b'Upload:', b'17.92', b'Mbit/s', '2025-02-28 19:23:58']\n",
      "Test number: 87\n",
      "[b'Ping:', b'48.266', b'ms', b'Download:', b'13.88', b'Mbit/s', b'Upload:', b'9.67', b'Mbit/s', '2025-02-28 19:23:58']\n",
      "Test number: 90\n",
      "[b'Ping:', b'47.482', b'ms', b'Download:', b'11.49', b'Mbit/s', b'Upload:', b'13.61', b'Mbit/s', '2025-02-28 19:23:58']\n",
      "Test number: 89\n",
      "[b'Ping:', b'48.057', b'ms', b'Download:', b'14.81', b'Mbit/s', b'Upload:', b'5.67', b'Mbit/s', '2025-02-28 19:23:58']\n",
      "Test number: 88\n",
      "[b'Ping:', b'47.789', b'ms', b'Download:', b'19.11', b'Mbit/s', b'Upload:', b'11.79', b'Mbit/s', '2025-02-28 19:23:58']\n",
      "Test number: 93\n",
      "[b'Ping:', b'48.673', b'ms', b'Download:', b'13.03', b'Mbit/s', b'Upload:', b'13.83', b'Mbit/s', '2025-02-28 19:23:58']\n",
      "Test number: 92\n",
      "[b'Ping:', b'47.515', b'ms', b'Download:', b'12.98', b'Mbit/s', b'Upload:', b'16.68', b'Mbit/s', '2025-02-28 19:23:58']\n",
      "Test number: 95\n",
      "[b'Ping:', b'47.918', b'ms', b'Download:', b'37.67', b'Mbit/s', b'Upload:', b'29.50', b'Mbit/s', '2025-02-28 19:24:01']\n",
      "Test number: 94\n",
      "[b'Ping:', b'47.732', b'ms', b'Download:', b'49.69', b'Mbit/s', b'Upload:', b'33.81', b'Mbit/s', '2025-02-28 19:24:00']\n",
      "Test number: 96\n",
      "[b'Ping:', b'46.922', b'ms', b'Download:', b'40.70', b'Mbit/s', b'Upload:', b'73.72', b'Mbit/s', '2025-02-28 19:24:19']\n",
      "Test number: 97\n",
      "[b'Ping:', b'47.951', b'ms', b'Download:', b'149.40', b'Mbit/s', b'Upload:', b'67.46', b'Mbit/s', '2025-02-28 19:24:19']\n",
      "Test number: 99\n",
      "[b'Ping:', b'47.287', b'ms', b'Download:', b'40.75', b'Mbit/s', b'Upload:', b'78.18', b'Mbit/s', '2025-02-28 19:24:20']\n",
      "Test number: 98\n",
      "[b'Ping:', b'47.515', b'ms', b'Download:', b'42.14', b'Mbit/s', b'Upload:', b'78.22', b'Mbit/s', '2025-02-28 19:24:20']\n"
     ]
    }
   ],
   "source": [
    "import concurrent.futures\n",
    "\n",
    "def run_speedtest(i):\n",
    "    speedtest_output = speedtest()\n",
    "    print('Test number: {}'.format(i))\n",
    "    print(speedtest_output)\n",
    "    save_to_csv(speedtest_output, 'tmp/rpi_data')\n",
    "\n",
    "# Использование ThreadPoolExecutor для параллельного выполнения\n",
    "with concurrent.futures.ThreadPoolExecutor() as executor:\n",
    "    # Запускаем 100 тестов параллельно\n",
    "    executor.map(run_speedtest, range(100))\n"
   ]
  },
  {
   "cell_type": "markdown",
   "metadata": {},
   "source": [
    "## Part 2: Manipulate Data"
   ]
  },
  {
   "cell_type": "markdown",
   "metadata": {},
   "source": [
    "The Python library `pandas` is very useful for working with structured data. The full documentation can be found here: http://pandas.pydata.org/pandas-docs/version/0.14.1/</font>\n",
    "\n",
    "A larger dataset collected in advance will be used for this part of the lab. The filename is `rpi_data_long.csv`.\n",
    "\n",
    "#### Step 1: Import the Python libraries.\n",
    "\n",
    "Import `pandas` and the other libraries used for the next tasks."
   ]
  },
  {
   "cell_type": "code",
   "execution_count": 34,
   "metadata": {
    "collapsed": true
   },
   "outputs": [],
   "source": [
    "# Code cell 19\n",
    "import datetime\n",
    "import csv\n",
    "import pandas as pd\n",
    "# NumPy is a library that adds support for large, multi-dimensional arrays and matrices\n",
    "# along with high-level mathematical functions to operate on these arrays\n"
   ]
  },
  {
   "cell_type": "markdown",
   "metadata": {},
   "source": [
    "#### Step 2: Load the `csv` file into a `DataFrame` object using `pandas`.\n",
    "\n",
    "A `pandas DataFrame` is a 2-dimensional labeled data structure with columns of potentially different types. You can think of it like a spreadsheet or SQL table. The pandas library function `read_csv` automatically converts a `csv` file into a `DataFrame` object.\n",
    "\n",
    "Read the `read_csv` documentation in http://pandas.pydata.org/pandas-docs/version/0.14.1/generated/pandas.read_csv.html.\n",
    "This function contains a lot of parameters. The only non-optional one is the `filepath`, i.e. the location of the `csv` file. All the other parameters are optional.\n",
    "\n",
    "In this step, you will import and view the content of the csv file, `rpi_data_long.csv`. This csv file is located in the same directory as this Jupyter notebook."
   ]
  },
  {
   "cell_type": "markdown",
   "metadata": {},
   "source": [
    "a) Assign the file `rpi_data_long.csv` to the variable `data_file`."
   ]
  },
  {
   "cell_type": "code",
   "execution_count": 35,
   "metadata": {
    "collapsed": true
   },
   "outputs": [],
   "source": [
    "# Code cell 20\n",
    "data_file = './Data/rpi_data_long.csv'"
   ]
  },
  {
   "cell_type": "markdown",
   "metadata": {},
   "source": [
    "b) Use the Linux command `head` to view the first 10 lines of the csv file."
   ]
  },
  {
   "cell_type": "code",
   "execution_count": null,
   "metadata": {
    "collapsed": true,
    "scrolled": true
   },
   "outputs": [],
   "source": [
    "# Code cell 21\n",
    "!head -n 5 ./Data/rpi_data_long.csv"
   ]
  },
  {
   "cell_type": "markdown",
   "metadata": {},
   "source": [
    "c) Use the `names` parameter of the `read_csv` function to specify the name of the `DataFrame` columns."
   ]
  },
  {
   "cell_type": "code",
   "execution_count": 36,
   "metadata": {
    "collapsed": true
   },
   "outputs": [],
   "source": [
    "# Code cell 22\n",
    "column_names = [ 'Type A', 'Measure A', 'Units A',\n",
    "                 'Type B', 'Measure B', 'Units B',\n",
    "                 'Type C', 'Measure C', 'Units C', \n",
    "                 'Datetime']"
   ]
  },
  {
   "cell_type": "markdown",
   "metadata": {},
   "source": [
    "d) Use the `read_csv` function to read from `data_file` and assign `column_names` as the column names in the dataframe."
   ]
  },
  {
   "cell_type": "code",
   "execution_count": 37,
   "metadata": {
    "collapsed": true
   },
   "outputs": [],
   "source": [
    "# Code cell 23\n",
    "with open(data_file, 'r') as f:\n",
    "    df_redundant = pd.read_csv(f, names = column_names)"
   ]
  },
  {
   "cell_type": "markdown",
   "metadata": {},
   "source": [
    "e) The command `head()` displays the first few rows of the dataframe."
   ]
  },
  {
   "cell_type": "code",
   "execution_count": 38,
   "metadata": {
    "collapsed": true
   },
   "outputs": [
    {
     "data": {
      "text/html": [
       "<div>\n",
       "<style scoped>\n",
       "    .dataframe tbody tr th:only-of-type {\n",
       "        vertical-align: middle;\n",
       "    }\n",
       "\n",
       "    .dataframe tbody tr th {\n",
       "        vertical-align: top;\n",
       "    }\n",
       "\n",
       "    .dataframe thead th {\n",
       "        text-align: right;\n",
       "    }\n",
       "</style>\n",
       "<table border=\"1\" class=\"dataframe\">\n",
       "  <thead>\n",
       "    <tr style=\"text-align: right;\">\n",
       "      <th></th>\n",
       "      <th>Type A</th>\n",
       "      <th>Measure A</th>\n",
       "      <th>Units A</th>\n",
       "      <th>Type B</th>\n",
       "      <th>Measure B</th>\n",
       "      <th>Units B</th>\n",
       "      <th>Type C</th>\n",
       "      <th>Measure C</th>\n",
       "      <th>Units C</th>\n",
       "      <th>Datetime</th>\n",
       "    </tr>\n",
       "  </thead>\n",
       "  <tbody>\n",
       "    <tr>\n",
       "      <th>0</th>\n",
       "      <td>Ping:</td>\n",
       "      <td>26.992</td>\n",
       "      <td>ms</td>\n",
       "      <td>Download:</td>\n",
       "      <td>91.80</td>\n",
       "      <td>Mbit/s</td>\n",
       "      <td>Upload:</td>\n",
       "      <td>14.31</td>\n",
       "      <td>Mbit/s</td>\n",
       "      <td>2016-11-24 13:36:25</td>\n",
       "    </tr>\n",
       "    <tr>\n",
       "      <th>1</th>\n",
       "      <td>Ping:</td>\n",
       "      <td>24.532</td>\n",
       "      <td>ms</td>\n",
       "      <td>Download:</td>\n",
       "      <td>88.19</td>\n",
       "      <td>Mbit/s</td>\n",
       "      <td>Upload:</td>\n",
       "      <td>14.12</td>\n",
       "      <td>Mbit/s</td>\n",
       "      <td>2016-11-24 13:36:55</td>\n",
       "    </tr>\n",
       "    <tr>\n",
       "      <th>2</th>\n",
       "      <td>Ping:</td>\n",
       "      <td>20.225</td>\n",
       "      <td>ms</td>\n",
       "      <td>Download:</td>\n",
       "      <td>59.86</td>\n",
       "      <td>Mbit/s</td>\n",
       "      <td>Upload:</td>\n",
       "      <td>14.11</td>\n",
       "      <td>Mbit/s</td>\n",
       "      <td>2016-11-24 13:37:25</td>\n",
       "    </tr>\n",
       "    <tr>\n",
       "      <th>3</th>\n",
       "      <td>Ping:</td>\n",
       "      <td>19.332</td>\n",
       "      <td>ms</td>\n",
       "      <td>Download:</td>\n",
       "      <td>91.81</td>\n",
       "      <td>Mbit/s</td>\n",
       "      <td>Upload:</td>\n",
       "      <td>14.22</td>\n",
       "      <td>Mbit/s</td>\n",
       "      <td>2016-11-24 13:37:57</td>\n",
       "    </tr>\n",
       "    <tr>\n",
       "      <th>4</th>\n",
       "      <td>Ping:</td>\n",
       "      <td>22.494</td>\n",
       "      <td>ms</td>\n",
       "      <td>Download:</td>\n",
       "      <td>92.05</td>\n",
       "      <td>Mbit/s</td>\n",
       "      <td>Upload:</td>\n",
       "      <td>14.08</td>\n",
       "      <td>Mbit/s</td>\n",
       "      <td>2016-11-24 13:38:27</td>\n",
       "    </tr>\n",
       "  </tbody>\n",
       "</table>\n",
       "</div>"
      ],
      "text/plain": [
       "  Type A Measure A Units A     Type B Measure B Units B   Type C  Measure C  \\\n",
       "0  Ping:    26.992      ms  Download:     91.80  Mbit/s  Upload:      14.31   \n",
       "1  Ping:    24.532      ms  Download:     88.19  Mbit/s  Upload:      14.12   \n",
       "2  Ping:    20.225      ms  Download:     59.86  Mbit/s  Upload:      14.11   \n",
       "3  Ping:    19.332      ms  Download:     91.81  Mbit/s  Upload:      14.22   \n",
       "4  Ping:    22.494      ms  Download:     92.05  Mbit/s  Upload:      14.08   \n",
       "\n",
       "  Units C             Datetime  \n",
       "0  Mbit/s  2016-11-24 13:36:25  \n",
       "1  Mbit/s  2016-11-24 13:36:55  \n",
       "2  Mbit/s  2016-11-24 13:37:25  \n",
       "3  Mbit/s  2016-11-24 13:37:57  \n",
       "4  Mbit/s  2016-11-24 13:38:27  "
      ]
     },
     "execution_count": 38,
     "metadata": {},
     "output_type": "execute_result"
    }
   ],
   "source": [
    "# Code cell 24\n",
    "# You can specify the number of rows you want to print to screen: \n",
    "# you do so passing the number as an argument to the function\n",
    "# (e.g., head(10))\n",
    "df_redundant.head()"
   ]
  },
  {
   "cell_type": "markdown",
   "metadata": {},
   "source": [
    "What is the code to read the first 20 lines of the csv file?"
   ]
  },
  {
   "cell_type": "markdown",
   "metadata": {},
   "source": []
  },
  {
   "cell_type": "markdown",
   "metadata": {},
   "source": [
    "#### Step 3: Create a concise representation.\n",
    "In this step, you will create a more compact representation using a copy of the data frame `df_redundant`."
   ]
  },
  {
   "cell_type": "markdown",
   "metadata": {},
   "source": [
    "a) Copy `df_redundant` into another dataframe called `df_compact` using `copy()`."
   ]
  },
  {
   "cell_type": "code",
   "execution_count": 39,
   "metadata": {
    "collapsed": true
   },
   "outputs": [],
   "source": [
    "# Code cell 25\n",
    "df_compact = df_redundant.copy()"
   ]
  },
  {
   "cell_type": "markdown",
   "metadata": {},
   "source": [
    "b) Rename the columns relative to the measures as shown:\n",
    "\n",
    "    Measure A -> Ping (ms)\n",
    "    Measure B -> Download (Mbit/s)\n",
    "    Measure C -> Upload (Mbit/s)"
   ]
  },
  {
   "cell_type": "code",
   "execution_count": 40,
   "metadata": {
    "collapsed": true,
    "scrolled": true
   },
   "outputs": [
    {
     "data": {
      "text/html": [
       "<div>\n",
       "<style scoped>\n",
       "    .dataframe tbody tr th:only-of-type {\n",
       "        vertical-align: middle;\n",
       "    }\n",
       "\n",
       "    .dataframe tbody tr th {\n",
       "        vertical-align: top;\n",
       "    }\n",
       "\n",
       "    .dataframe thead th {\n",
       "        text-align: right;\n",
       "    }\n",
       "</style>\n",
       "<table border=\"1\" class=\"dataframe\">\n",
       "  <thead>\n",
       "    <tr style=\"text-align: right;\">\n",
       "      <th></th>\n",
       "      <th>Type A</th>\n",
       "      <th>Ping (ms)</th>\n",
       "      <th>Units A</th>\n",
       "      <th>Type B</th>\n",
       "      <th>Download (Mbit/s)</th>\n",
       "      <th>Units B</th>\n",
       "      <th>Type C</th>\n",
       "      <th>Upload (Mbit/s)</th>\n",
       "      <th>Units C</th>\n",
       "      <th>Datetime</th>\n",
       "    </tr>\n",
       "  </thead>\n",
       "  <tbody>\n",
       "    <tr>\n",
       "      <th>0</th>\n",
       "      <td>Ping:</td>\n",
       "      <td>26.992</td>\n",
       "      <td>ms</td>\n",
       "      <td>Download:</td>\n",
       "      <td>91.80</td>\n",
       "      <td>Mbit/s</td>\n",
       "      <td>Upload:</td>\n",
       "      <td>14.31</td>\n",
       "      <td>Mbit/s</td>\n",
       "      <td>2016-11-24 13:36:25</td>\n",
       "    </tr>\n",
       "    <tr>\n",
       "      <th>1</th>\n",
       "      <td>Ping:</td>\n",
       "      <td>24.532</td>\n",
       "      <td>ms</td>\n",
       "      <td>Download:</td>\n",
       "      <td>88.19</td>\n",
       "      <td>Mbit/s</td>\n",
       "      <td>Upload:</td>\n",
       "      <td>14.12</td>\n",
       "      <td>Mbit/s</td>\n",
       "      <td>2016-11-24 13:36:55</td>\n",
       "    </tr>\n",
       "    <tr>\n",
       "      <th>2</th>\n",
       "      <td>Ping:</td>\n",
       "      <td>20.225</td>\n",
       "      <td>ms</td>\n",
       "      <td>Download:</td>\n",
       "      <td>59.86</td>\n",
       "      <td>Mbit/s</td>\n",
       "      <td>Upload:</td>\n",
       "      <td>14.11</td>\n",
       "      <td>Mbit/s</td>\n",
       "      <td>2016-11-24 13:37:25</td>\n",
       "    </tr>\n",
       "  </tbody>\n",
       "</table>\n",
       "</div>"
      ],
      "text/plain": [
       "  Type A Ping (ms) Units A     Type B Download (Mbit/s) Units B   Type C  \\\n",
       "0  Ping:    26.992      ms  Download:             91.80  Mbit/s  Upload:   \n",
       "1  Ping:    24.532      ms  Download:             88.19  Mbit/s  Upload:   \n",
       "2  Ping:    20.225      ms  Download:             59.86  Mbit/s  Upload:   \n",
       "\n",
       "   Upload (Mbit/s) Units C             Datetime  \n",
       "0            14.31  Mbit/s  2016-11-24 13:36:25  \n",
       "1            14.12  Mbit/s  2016-11-24 13:36:55  \n",
       "2            14.11  Mbit/s  2016-11-24 13:37:25  "
      ]
     },
     "execution_count": 40,
     "metadata": {},
     "output_type": "execute_result"
    }
   ],
   "source": [
    "# Code cell 26\n",
    "df_compact.rename(columns={'Measure A':'Ping (ms)', \n",
    "                           'Measure B': 'Download (Mbit/s)',\n",
    "                           'Measure C': 'Upload (Mbit/s)'}, inplace=True)\n",
    "df_compact.head(3)"
   ]
  },
  {
   "cell_type": "markdown",
   "metadata": {},
   "source": [
    "c) Because the Types and Units columns are no longer necessary, these columns can be dropped."
   ]
  },
  {
   "cell_type": "code",
   "execution_count": 41,
   "metadata": {
    "collapsed": true
   },
   "outputs": [
    {
     "data": {
      "text/html": [
       "<div>\n",
       "<style scoped>\n",
       "    .dataframe tbody tr th:only-of-type {\n",
       "        vertical-align: middle;\n",
       "    }\n",
       "\n",
       "    .dataframe tbody tr th {\n",
       "        vertical-align: top;\n",
       "    }\n",
       "\n",
       "    .dataframe thead th {\n",
       "        text-align: right;\n",
       "    }\n",
       "</style>\n",
       "<table border=\"1\" class=\"dataframe\">\n",
       "  <thead>\n",
       "    <tr style=\"text-align: right;\">\n",
       "      <th></th>\n",
       "      <th>Ping (ms)</th>\n",
       "      <th>Download (Mbit/s)</th>\n",
       "      <th>Upload (Mbit/s)</th>\n",
       "      <th>Datetime</th>\n",
       "    </tr>\n",
       "  </thead>\n",
       "  <tbody>\n",
       "    <tr>\n",
       "      <th>0</th>\n",
       "      <td>26.992</td>\n",
       "      <td>91.80</td>\n",
       "      <td>14.31</td>\n",
       "      <td>2016-11-24 13:36:25</td>\n",
       "    </tr>\n",
       "    <tr>\n",
       "      <th>1</th>\n",
       "      <td>24.532</td>\n",
       "      <td>88.19</td>\n",
       "      <td>14.12</td>\n",
       "      <td>2016-11-24 13:36:55</td>\n",
       "    </tr>\n",
       "    <tr>\n",
       "      <th>2</th>\n",
       "      <td>20.225</td>\n",
       "      <td>59.86</td>\n",
       "      <td>14.11</td>\n",
       "      <td>2016-11-24 13:37:25</td>\n",
       "    </tr>\n",
       "    <tr>\n",
       "      <th>3</th>\n",
       "      <td>19.332</td>\n",
       "      <td>91.81</td>\n",
       "      <td>14.22</td>\n",
       "      <td>2016-11-24 13:37:57</td>\n",
       "    </tr>\n",
       "    <tr>\n",
       "      <th>4</th>\n",
       "      <td>22.494</td>\n",
       "      <td>92.05</td>\n",
       "      <td>14.08</td>\n",
       "      <td>2016-11-24 13:38:27</td>\n",
       "    </tr>\n",
       "  </tbody>\n",
       "</table>\n",
       "</div>"
      ],
      "text/plain": [
       "  Ping (ms) Download (Mbit/s)  Upload (Mbit/s)             Datetime\n",
       "0    26.992             91.80            14.31  2016-11-24 13:36:25\n",
       "1    24.532             88.19            14.12  2016-11-24 13:36:55\n",
       "2    20.225             59.86            14.11  2016-11-24 13:37:25\n",
       "3    19.332             91.81            14.22  2016-11-24 13:37:57\n",
       "4    22.494             92.05            14.08  2016-11-24 13:38:27"
      ]
     },
     "execution_count": 41,
     "metadata": {},
     "output_type": "execute_result"
    }
   ],
   "source": [
    "# Code cell 27\n",
    "df_compact.drop(['Type A', 'Type B', 'Type C',\n",
    "         'Units A', 'Units B', 'Units C'], axis=1, inplace=True)\n",
    "df_compact.head()"
   ]
  },
  {
   "cell_type": "markdown",
   "metadata": {},
   "source": [
    "In the table above, the `Datetime` field is a string. Pandas and Python offer a number of operations to work with date and time that can be very helpful.\n",
    "\n",
    "In the next step, the string in the `Datetime` column will be separated into two new columns.\n",
    "\n",
    "#### Step 4: Separate data into two columns.\n",
    "In this step, you will use Pandas to generate the columns `Date` and `Time` from the column `Datetime` and then drop the `Datetime` column.\n",
    "<p>The `lambda` function is used create two anonymous functions that extract only the date and the time from a `datetime` object, respectively. Then, use the `pandas` function `apply` to apply this function to an entire column (in practice, `apply` implicitly defines a `for` loop and passes the rows one by one to our `lambda` function). Store the result of the `apply` functions in two new columns of the `DataFrame`."
   ]
  },
  {
   "cell_type": "markdown",
   "metadata": {},
   "source": [
    "a) Apply the `lambda` function to iterate through the data frame to split the date from the `Datetime` column."
   ]
  },
  {
   "cell_type": "code",
   "execution_count": 42,
   "metadata": {
    "collapsed": true
   },
   "outputs": [],
   "source": [
    "# Code cell 28\n",
    "df_compact['Date'] = df_compact['Datetime'].apply(lambda dt_str: pd.to_datetime(dt_str).date())"
   ]
  },
  {
   "cell_type": "markdown",
   "metadata": {},
   "source": [
    "b) Repeat step a to split time from `Datetime` column. "
   ]
  },
  {
   "cell_type": "code",
   "execution_count": 43,
   "metadata": {
    "collapsed": true
   },
   "outputs": [],
   "source": [
    "# Code cell 29\n",
    "# Please note, this requires an intermediate step, because of how NaT are treated by the time() function.\n",
    "# Reference: https://github.com/pandas-dev/pandas/issues/11453\n",
    "temp = df_compact['Datetime'].apply(lambda dt_str: pd.to_datetime(dt_str))\n",
    "df_compact['Time'] = temp.dt.time"
   ]
  },
  {
   "cell_type": "markdown",
   "metadata": {},
   "source": [
    "c) All the information for the `Datetime` column has now been copied to the `Date` and `Time` columnns. The `Datetime` column serves no purpose. The `Datetime` column can be dropped from the data frame.\n",
    "<p>Enter the code to drop the `Datetime` column in the cell below."
   ]
  },
  {
   "cell_type": "code",
   "execution_count": 44,
   "metadata": {
    "collapsed": true
   },
   "outputs": [],
   "source": [
    "# Code cell 30\n",
    "df_compact = df_compact.drop(columns=['Datetime'])"
   ]
  },
  {
   "cell_type": "markdown",
   "metadata": {},
   "source": [
    "Enter the code to print out the first 3 rows of the data frame to verify the changes."
   ]
  },
  {
   "cell_type": "code",
   "execution_count": 45,
   "metadata": {
    "collapsed": true
   },
   "outputs": [
    {
     "name": "stdout",
     "output_type": "stream",
     "text": [
      "  Ping (ms) Download (Mbit/s)  Upload (Mbit/s)        Date      Time\n",
      "0    26.992             91.80            14.31  2016-11-24  13:36:25\n",
      "1    24.532             88.19            14.12  2016-11-24  13:36:55\n",
      "2    20.225             59.86            14.11  2016-11-24  13:37:25\n"
     ]
    }
   ],
   "source": [
    "# Code cell 31\n",
    "print(df_compact.head(3))"
   ]
  },
  {
   "cell_type": "markdown",
   "metadata": {},
   "source": [
    "d) Use the `type` function to print out the variable type of the values in the `Date` and `Time` columns."
   ]
  },
  {
   "cell_type": "code",
   "execution_count": 46,
   "metadata": {
    "collapsed": true
   },
   "outputs": [
    {
     "name": "stdout",
     "output_type": "stream",
     "text": [
      "2016-11-24 <class 'datetime.date'>\n",
      "13:36:25 <class 'datetime.time'>\n"
     ]
    }
   ],
   "source": [
    "# Code cell 32\n",
    "print(df_compact['Date'][0], type(df_compact['Date'][0]) )\n",
    "print(df_compact['Time'][0], type(df_compact['Time'][0]) )"
   ]
  },
  {
   "cell_type": "markdown",
   "metadata": {},
   "source": [
    "#### Step 5: Save the new data frame.\n",
    "Save the pandas dataframe `df_compact` as a csv file called `rpi_data_compact`:"
   ]
  },
  {
   "cell_type": "code",
   "execution_count": 47,
   "metadata": {
    "collapsed": true
   },
   "outputs": [],
   "source": [
    "# Code cell 33\n",
    "df_compact.to_csv('./Data/rpi_data_compact.csv')"
   ]
  },
  {
   "cell_type": "markdown",
   "metadata": {},
   "source": [
    "1. Что такое анонимная функция Python, как она работает \n",
    "\n",
    "Ответ: Анонимная функция lambda языка Python. Лямбда позволяет указывать функцию в одной строке кода, без использования def и без определения конкретного имени для нее.\n",
    "\n",
    "2. Что возвращает функция speedtest ()? Какой код используется для просмотра\n",
    "результатов функции speedtest ()?\n",
    "\n",
    "Ответ: Функция speedtest() возвращает результаты измерений скорости подключения к сети. Код для просмотра: speedtest()\n",
    "\n",
    "3. Каким образом выполняется переименование столбцов датафрейма?\n",
    "\n",
    "Ответ: При помощи метода rename. Пример: object.rename()\n",
    "\n",
    "4. Для чего в лабораторной работе импортируется библиотека NumPy?\n",
    "\n",
    "Ответ: В данной лабораторной библиотека NumPy не используется\n",
    "\n",
    "5. Как выглядит код удаления столбца Datetime?\n",
    "\n",
    "Ответ: С помощью метода drop(). Пример: object = object.drop(columns=['Datetime'])"
   ]
  },
  {
   "cell_type": "markdown",
   "metadata": {},
   "source": [
    "<font size='0.5'>&copy; 2017 Cisco and/or its affiliates. All rights reserved. This document is Cisco Public.<font>"
   ]
  }
 ],
 "metadata": {
  "anaconda-cloud": {},
  "kernelspec": {
   "display_name": "Python 3",
   "language": "python",
   "name": "python3"
  },
  "language_info": {
   "codemirror_mode": {
    "name": "ipython",
    "version": 3
   },
   "file_extension": ".py",
   "mimetype": "text/x-python",
   "name": "python",
   "nbconvert_exporter": "python",
   "pygments_lexer": "ipython3",
   "version": "3.13.2"
  }
 },
 "nbformat": 4,
 "nbformat_minor": 1
}
